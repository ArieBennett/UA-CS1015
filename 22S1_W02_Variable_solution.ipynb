{
 "cells": [
  {
   "cell_type": "markdown",
   "metadata": {},
   "source": [
    "# Demo 1 - Variables and Data Types\n",
    "\n",
    "There are several built-in data types we will use in Python. In last two weeks, we have used the types such as **integer, float, character, string etc**.\n",
    "\n",
    "Unlike other programming languages where you must explicitly declare the data type, in Python, the data type is set when you assign a value to a variable:"
   ]
  },
  {
   "cell_type": "markdown",
   "metadata": {},
   "source": [
    "### Integer"
   ]
  },
  {
   "cell_type": "code",
   "execution_count": 20,
   "metadata": {},
   "outputs": [
    {
     "name": "stdout",
     "output_type": "stream",
     "text": [
      "2\n"
     ]
    }
   ],
   "source": [
    "x = 2          # An integer assignment\n",
    "print(x)"
   ]
  },
  {
   "cell_type": "markdown",
   "metadata": {},
   "source": [
    "In other language like C++ or Java, you have to do the following"
   ]
  },
  {
   "cell_type": "raw",
   "metadata": {},
   "source": [
    "//C++ code below\n",
    "\n",
    "int x = 2;   //declare datatype\n",
    "cout << x;"
   ]
  },
  {
   "cell_type": "markdown",
   "metadata": {},
   "source": [
    "### Float\n",
    "\n",
    "There are other *Data Types* we can use."
   ]
  },
  {
   "cell_type": "code",
   "execution_count": 19,
   "metadata": {},
   "outputs": [
    {
     "name": "stdout",
     "output_type": "stream",
     "text": [
      "2.5\n"
     ]
    }
   ],
   "source": [
    "y = 2.5        # This is a float\n",
    "print(y)"
   ]
  },
  {
   "cell_type": "code",
   "execution_count": 21,
   "metadata": {},
   "outputs": [],
   "source": [
    "ans = x+y     # we can add an int to a float in python. \n",
    "              # what do you think the data type of the result will be?"
   ]
  },
  {
   "cell_type": "code",
   "execution_count": 22,
   "metadata": {},
   "outputs": [
    {
     "name": "stdout",
     "output_type": "stream",
     "text": [
      "4.5\n"
     ]
    }
   ],
   "source": [
    "print(ans)"
   ]
  },
  {
   "cell_type": "markdown",
   "metadata": {},
   "source": [
    "Above Python infers that the variable **ans** should be of the data type **float** to avoid the lose of precision. And Python assign the data type for you. Note that it is not the case in other programming languages. Below is a C++ example for your refernece. "
   ]
  },
  {
   "cell_type": "markdown",
   "metadata": {},
   "source": [
    "int x = 2;\n",
    "float y = 2.5;\n",
    "\n",
    "int ans1 = x + y;    //this will be 4\n",
    "float ans2 = x + y;  //this will be 4.5"
   ]
  },
  {
   "cell_type": "markdown",
   "metadata": {},
   "source": [
    "## Obtaining data type"
   ]
  },
  {
   "cell_type": "markdown",
   "metadata": {},
   "source": [
    "You can ask Python for the data type of variables using the **type** function as below."
   ]
  },
  {
   "cell_type": "code",
   "execution_count": 24,
   "metadata": {},
   "outputs": [
    {
     "name": "stdout",
     "output_type": "stream",
     "text": [
      "<class 'float'>\n"
     ]
    }
   ],
   "source": [
    "print(type(ans))"
   ]
  },
  {
   "cell_type": "markdown",
   "metadata": {},
   "source": [
    "Alternatively, you can also use the magic command \"whos\" to get the list of interactive variables and their attributes."
   ]
  },
  {
   "cell_type": "code",
   "execution_count": null,
   "metadata": {},
   "outputs": [],
   "source": [
    "whos"
   ]
  },
  {
   "cell_type": "markdown",
   "metadata": {},
   "source": [
    "to remove all variables from the workspace we can use the command 'reset'. To ensure you don't accidentally remove all your variables this *function* will prompt you to confirm using the 'y' or 'n' keys on the keyboard. Try the command below."
   ]
  },
  {
   "cell_type": "markdown",
   "metadata": {},
   "source": [
    "## Casting"
   ]
  },
  {
   "cell_type": "markdown",
   "metadata": {},
   "source": [
    "You can convert a variable's data type from one type to another. We call such operation **casting**. You will encounter many situations that require data casting in the future. For example, some function might only work with integer. Keep in mind that type casting could result in data lose and you should be carefula about it. "
   ]
  },
  {
   "cell_type": "code",
   "execution_count": 27,
   "metadata": {},
   "outputs": [
    {
     "name": "stdout",
     "output_type": "stream",
     "text": [
      "4.5\n",
      "4\n"
     ]
    }
   ],
   "source": [
    "x = 4.5 # x is a float \n",
    "\n",
    "y = 4.5\n",
    "y = int(y) # now y is an integer\n",
    "\n",
    "print(x)\n",
    "print(y)"
   ]
  },
  {
   "cell_type": "markdown",
   "metadata": {},
   "source": [
    "Below is another example where the casting changes the usage of the varaible completely."
   ]
  },
  {
   "cell_type": "code",
   "execution_count": 29,
   "metadata": {},
   "outputs": [
    {
     "name": "stdout",
     "output_type": "stream",
     "text": [
      "4.5\n"
     ]
    }
   ],
   "source": [
    "x = 4.5\n",
    "x = str(x)\n",
    "print (x)"
   ]
  },
  {
   "cell_type": "markdown",
   "metadata": {},
   "source": [
    "The output is 4.5, as expected. So far so good. Now, try executing the code below, read the error carefully, and ask yourself why is there such an error."
   ]
  },
  {
   "cell_type": "code",
   "execution_count": 30,
   "metadata": {},
   "outputs": [
    {
     "ename": "TypeError",
     "evalue": "can only concatenate str (not \"int\") to str",
     "output_type": "error",
     "traceback": [
      "\u001b[0;31m---------------------------------------------------------------------------\u001b[0m",
      "\u001b[0;31mTypeError\u001b[0m                                 Traceback (most recent call last)",
      "\u001b[0;32m<ipython-input-30-123f73ec3ef6>\u001b[0m in \u001b[0;36m<module>\u001b[0;34m\u001b[0m\n\u001b[0;32m----> 1\u001b[0;31m \u001b[0mx\u001b[0m \u001b[0;34m=\u001b[0m \u001b[0mx\u001b[0m \u001b[0;34m+\u001b[0m \u001b[0;36m3\u001b[0m\u001b[0;34m\u001b[0m\u001b[0;34m\u001b[0m\u001b[0m\n\u001b[0m",
      "\u001b[0;31mTypeError\u001b[0m: can only concatenate str (not \"int\") to str"
     ]
    }
   ],
   "source": [
    "x = x + 3"
   ]
  },
  {
   "cell_type": "markdown",
   "metadata": {},
   "source": [
    "## Printing variables\n",
    "\n",
    "So, recall the print function we used in the last two weeks. We know that it is simple to printout the variable it self, as below"
   ]
  },
  {
   "cell_type": "code",
   "execution_count": 42,
   "metadata": {},
   "outputs": [
    {
     "name": "stdout",
     "output_type": "stream",
     "text": [
      "5\n"
     ]
    }
   ],
   "source": [
    "x = 3\n",
    "y = 2\n",
    "print(x + 2)"
   ]
  },
  {
   "cell_type": "markdown",
   "metadata": {},
   "source": [
    "However, printing becomes a little bit more complicated when you want to print mixed data types. For example, it is very common we would want to mix both *string* and *int* together, as below:"
   ]
  },
  {
   "cell_type": "code",
   "execution_count": 41,
   "metadata": {},
   "outputs": [
    {
     "ename": "TypeError",
     "evalue": "can only concatenate str (not \"int\") to str",
     "output_type": "error",
     "traceback": [
      "\u001b[0;31m---------------------------------------------------------------------------\u001b[0m",
      "\u001b[0;31mTypeError\u001b[0m                                 Traceback (most recent call last)",
      "\u001b[0;32m<ipython-input-41-77df301a30d2>\u001b[0m in \u001b[0;36m<module>\u001b[0;34m\u001b[0m\n\u001b[1;32m      1\u001b[0m \u001b[0mx\u001b[0m \u001b[0;34m=\u001b[0m \u001b[0;36m3\u001b[0m\u001b[0;34m\u001b[0m\u001b[0;34m\u001b[0m\u001b[0m\n\u001b[0;32m----> 2\u001b[0;31m \u001b[0mprint\u001b[0m\u001b[0;34m(\u001b[0m\u001b[0;34m\"x is \"\u001b[0m \u001b[0;34m+\u001b[0m \u001b[0mx\u001b[0m\u001b[0;34m)\u001b[0m\u001b[0;34m\u001b[0m\u001b[0;34m\u001b[0m\u001b[0m\n\u001b[0m",
      "\u001b[0;31mTypeError\u001b[0m: can only concatenate str (not \"int\") to str"
     ]
    }
   ],
   "source": [
    "x = 3\n",
    "print(\"x is \" + x)"
   ]
  },
  {
   "cell_type": "markdown",
   "metadata": {},
   "source": [
    "Code above will createa a **TypeError**. This error happends because Python try to **add** the string **\"x is\"** and an integer variable **x** together, then find out that such operation is not defined."
   ]
  },
  {
   "cell_type": "markdown",
   "metadata": {},
   "source": [
    "From Pyton 3.6, we have a convenient tool, **f-string**, to solve such issue. Below is a sample code. The syntax of f-string is quite unique. A normal string is like **\"hello world\"**, while for f-string, you write **f\"hello world\"**. And f-string is convenient because you can directly put a variable inside f-string with brackets as below."
   ]
  },
  {
   "cell_type": "code",
   "execution_count": 43,
   "metadata": {},
   "outputs": [
    {
     "name": "stdout",
     "output_type": "stream",
     "text": [
      "x is 3\n"
     ]
    }
   ],
   "source": [
    "x = 3\n",
    "print(f'x is {x}')"
   ]
  },
  {
   "cell_type": "markdown",
   "metadata": {},
   "source": [
    "Note that the variable has to be surrounded by brackets. Below is another example."
   ]
  },
  {
   "cell_type": "code",
   "execution_count": 44,
   "metadata": {},
   "outputs": [
    {
     "name": "stdout",
     "output_type": "stream",
     "text": [
      "x + y = 3 + 2 = 5\n"
     ]
    }
   ],
   "source": [
    "x = 3\n",
    "y = 2\n",
    "print(f'x + y = {x} + {y} = {x+y}')"
   ]
  },
  {
   "cell_type": "markdown",
   "metadata": {},
   "source": [
    "f-string also supports a range of formatting expressions, such as the number of digits to show for a float variable and the alignment. The syntax is again quite unique, take a closer look"
   ]
  },
  {
   "cell_type": "markdown",
   "metadata": {},
   "source": [
    "# Activity 1 - Warm Up with Variables"
   ]
  },
  {
   "cell_type": "markdown",
   "metadata": {},
   "source": [
    "Let's warm up with variable. Please create two variables **name** and **age**. The former is your name, and the later is your age. Then use **f-string** to print out both your name and age. For example, \"My name is Ada, I am 20 years old\""
   ]
  },
  {
   "cell_type": "code",
   "execution_count": null,
   "metadata": {},
   "outputs": [],
   "source": []
  },
  {
   "cell_type": "markdown",
   "metadata": {},
   "source": [
    "# Demo 2: Input"
   ]
  },
  {
   "cell_type": "markdown",
   "metadata": {},
   "source": [
    "The input() function pauses the program and waits for the user to input texts. After the user press 'enter', the input funciton will return a string. "
   ]
  },
  {
   "cell_type": "code",
   "execution_count": null,
   "metadata": {},
   "outputs": [],
   "source": [
    "num = input(\"Please input a number: \")\n",
    "print(f'The user inputs {num}!')"
   ]
  },
  {
   "cell_type": "markdown",
   "metadata": {},
   "source": [
    "Note that the input function returns a string. If you would like to do some calculation on the number, you need to do a type casting. "
   ]
  },
  {
   "cell_type": "code",
   "execution_count": null,
   "metadata": {},
   "outputs": [],
   "source": [
    "age = input('what is your age? ')\n",
    "age = int(age)\n",
    "print(f'You will be {age + 1} years old next year!')"
   ]
  },
  {
   "cell_type": "markdown",
   "metadata": {},
   "source": [
    "# Activity 2: Input "
   ]
  },
  {
   "cell_type": "markdown",
   "metadata": {},
   "source": [
    "Please write a program that asks a student to input his/her name and ID, then greet the student."
   ]
  },
  {
   "cell_type": "markdown",
   "metadata": {},
   "source": []
  },
  {
   "cell_type": "markdown",
   "metadata": {},
   "source": [
    "# Demo 3: f-string formatting"
   ]
  },
  {
   "cell_type": "code",
   "execution_count": 48,
   "metadata": {},
   "outputs": [
    {
     "name": "stdout",
     "output_type": "stream",
     "text": [
      "3.1415\n",
      "3.1\n",
      "3.14\n",
      "3.142\n"
     ]
    }
   ],
   "source": [
    "pi = 3.1415\n",
    "\n",
    "print(f\"{pi}\")\n",
    "print(f\"{pi:.1f}\") #variable:.xf  x is the number of digits to show \n",
    "print(f\"{pi:.2f}\")\n",
    "print(f\"{pi:.3f}\")"
   ]
  },
  {
   "cell_type": "markdown",
   "metadata": {},
   "source": [
    "f-string allows you to specify the **width** of the variable output with the colon symbol. "
   ]
  },
  {
   "cell_type": "code",
   "execution_count": 67,
   "metadata": {},
   "outputs": [
    {
     "name": "stdout",
     "output_type": "stream",
     "text": [
      "1\n",
      "10\n",
      "100\n",
      "    1\n",
      "   10\n",
      "  100\n",
      "         1\n",
      "        10\n",
      "       100\n"
     ]
    }
   ],
   "source": [
    "a = 1\n",
    "b = 10\n",
    "c = 100\n",
    "\n",
    "print(a)\n",
    "print(b)\n",
    "print(c)\n",
    "\n",
    "# the ouput of the variable is 5 characters wide\n",
    "print(f'{a:5}')\n",
    "print(f'{b:5}')\n",
    "print(f'{c:5}')\n",
    "\n",
    "# the ouput of the variable is 10 characters wide\n",
    "print(f'{a:10}')\n",
    "print(f'{b:10}')\n",
    "print(f'{c:10}')"
   ]
  },
  {
   "cell_type": "markdown",
   "metadata": {},
   "source": [
    "You can also change the alignment with the **<** and **>** operators after **:**"
   ]
  },
  {
   "cell_type": "markdown",
   "metadata": {},
   "source": [
    "Below is another example with a more complex alignments"
   ]
  },
  {
   "cell_type": "code",
   "execution_count": 101,
   "metadata": {},
   "outputs": [
    {
     "name": "stdout",
     "output_type": "stream",
     "text": [
      "0: 1 100 10000\n",
      "1:          1        100      10000\n",
      "2:          1 100             10000\n",
      "3:          1    100          10000\n",
      "4:     1         100       10000   \n"
     ]
    }
   ],
   "source": [
    "a = 1\n",
    "b = 100\n",
    "c = 10000\n",
    "print(f'0: {a} {b} {c}')\n",
    "print(f'1: {a:10} {b:10} {c:10}')\n",
    "print(f'2: {a:10} {b:<10} {c:10}') # b is aligned to the left\n",
    "print(f'3: {a:10} {b:^10} {c:10}') # b is centrally aligned\n",
    "print(f'4: {a:^10} {b:^10} {c:^10}') # all variables are centrally aligned"
   ]
  },
  {
   "cell_type": "markdown",
   "metadata": {},
   "source": [
    "# Activity 3 - f-string"
   ]
  },
  {
   "cell_type": "markdown",
   "metadata": {},
   "source": [
    "In this activity, your goal is to produce the output below"
   ]
  },
  {
   "cell_type": "raw",
   "metadata": {},
   "source": [
    "         2         4         8\n",
    "3         9         27        \n",
    "    4         16        64    "
   ]
  },
  {
   "cell_type": "markdown",
   "metadata": {},
   "source": [
    "Please add f-string formatting to the code below so that it generates the desired ouput as above. The width of the variable output is 10."
   ]
  },
  {
   "cell_type": "code",
   "execution_count": 108,
   "metadata": {},
   "outputs": [
    {
     "name": "stdout",
     "output_type": "stream",
     "text": [
      "248\n",
      "3927\n",
      "41664\n"
     ]
    }
   ],
   "source": [
    "# modify the code below\n",
    "x = 2\n",
    "y = 3\n",
    "z = 4\n",
    "\n",
    "print(f'{x}{x*x}{x*x*x}')\n",
    "print(f'{y}{y*y}{y*y*y}')\n",
    "print(f'{z}{z*z}{z*z*z}')"
   ]
  },
  {
   "cell_type": "code",
   "execution_count": 107,
   "metadata": {},
   "outputs": [
    {
     "name": "stdout",
     "output_type": "stream",
     "text": [
      "         2         4         8\n",
      "3         9         27        \n",
      "    4         16        64    \n"
     ]
    }
   ],
   "source": [
    "x = 2\n",
    "y = 3\n",
    "z = 4\n",
    "\n",
    "print(f'{x:10}{x*x:10}{x*x*x:10}')\n",
    "print(f'{y:<10}{y*y:<10}{y*y*y:<10}')\n",
    "print(f'{z:^10}{z*z:^10}{z*z*z:^10}')"
   ]
  },
  {
   "cell_type": "markdown",
   "metadata": {},
   "source": [
    "# Demo4 - Python for mathmatical calculation"
   ]
  },
  {
   "cell_type": "markdown",
   "metadata": {},
   "source": [
    "We can do a lot of things with variables. Below is an example where we calculate the area a 2D circle. "
   ]
  },
  {
   "cell_type": "code",
   "execution_count": 109,
   "metadata": {},
   "outputs": [
    {
     "name": "stdout",
     "output_type": "stream",
     "text": [
      "The are of a circle with radius 5.0 is 78.53750000000001\n"
     ]
    }
   ],
   "source": [
    "PI = 3.1415\n",
    "radius = 5.0\n",
    "\n",
    "area = PI * radius ** 2\n",
    "print(f'The are of a circle with radius {radius} is {area}')"
   ]
  },
  {
   "cell_type": "markdown",
   "metadata": {},
   "source": [
    "Now, if we want to calculate the area of another circle with the radius of 10.0, the only thing we need to do is to change the value assigned to the radius and the same program will execute again and give you a new answer! Give it a try!"
   ]
  },
  {
   "cell_type": "markdown",
   "metadata": {},
   "source": [
    "# Activity 4.1 - Calculate the radius"
   ]
  },
  {
   "cell_type": "markdown",
   "metadata": {},
   "source": [
    "Please calculates the radius of a 2D circle, given its area. "
   ]
  },
  {
   "cell_type": "code",
   "execution_count": 2,
   "metadata": {},
   "outputs": [
    {
     "name": "stdin",
     "output_type": "stream",
     "text": [
      "Please input the area of the circle:  100\n"
     ]
    },
    {
     "name": "stdout",
     "output_type": "stream",
     "text": [
      "The radius of a circle of area 100 is 5.641979034275604\n"
     ]
    }
   ],
   "source": [
    "import math #we will talk about module more in the future\n",
    "PI = 3.1415\n",
    "area = input(\"Please input the area of the circle: \")\n",
    "area = int(area)\n",
    "#insert code below to calculate the radius\n",
    "#hint: math.sqrt(var) will return the squared root, e.g. math.sqrt(4) will return 2\n",
    "\n",
    "r = math.sqrt(area / PI)\n",
    "print(f'The radius of a circle of area {area} is {r}')"
   ]
  },
  {
   "cell_type": "markdown",
   "metadata": {},
   "source": [
    "# Activity 4.2 - Distance between two 2D points"
   ]
  },
  {
   "cell_type": "markdown",
   "metadata": {},
   "source": [
    "Assume we have two points in a 3D space p1 = (x1, y1, z1), p2 = (x2, y2, z2). Please\n",
    "1. print out a vector p1p2 (i.e. V = p2 - p1)\n",
    "1. calcualte and report the distance between p1 and p2. "
   ]
  },
  {
   "cell_type": "code",
   "execution_count": 114,
   "metadata": {},
   "outputs": [
    {
     "ename": "SyntaxError",
     "evalue": "f-string: empty expression not allowed (<ipython-input-114-715cdc2095d8>, line 10)",
     "output_type": "error",
     "traceback": [
      "\u001b[0;36m  File \u001b[0;32m\"<ipython-input-114-715cdc2095d8>\"\u001b[0;36m, line \u001b[0;32m10\u001b[0m\n\u001b[0;31m    print(f'p2p1 = ({},{},{})') #fill in this line\u001b[0m\n\u001b[0m         ^\u001b[0m\n\u001b[0;31mSyntaxError\u001b[0m\u001b[0;31m:\u001b[0m f-string: empty expression not allowed\n"
     ]
    }
   ],
   "source": [
    "import math\n",
    "x1 = 2\n",
    "y1 = 3\n",
    "z1 = 4\n",
    "\n",
    "x2 = 20\n",
    "y2 = 30\n",
    "z2 = 50\n",
    "\n",
    "print(f'p2p1 = ({},{},{})') #fill in this line\n",
    "\n",
    "#calculate the distance between point1 and point2\n",
    "\n",
    "dis = ...\n",
    "print(f'distance between p1 and p2 is {dis}')"
   ]
  },
  {
   "cell_type": "code",
   "execution_count": 113,
   "metadata": {},
   "outputs": [
    {
     "name": "stdout",
     "output_type": "stream",
     "text": [
      "p2p1 = (18,27,46)\n",
      "distance between p1 and p2 is 56.293871780150276\n"
     ]
    }
   ],
   "source": [
    "import math\n",
    "# point1 is (x1, y1, z1) = (2, 3, 4)\n",
    "x1 = 2\n",
    "y1 = 3\n",
    "z1 = 4\n",
    "\n",
    "# point2 is (x2, y2, z2) = (20, 30, 50)\n",
    "x2 = 20\n",
    "y2 = 30\n",
    "z2 = 50\n",
    "\n",
    "print(f'p2p1 = ({x2-x1},{y2-y1},{z2-z1})')\n",
    "#calculate the distance between point1 and point2\n",
    "dis = math.sqrt((x1-x2)**2 + (y1-y2)**2 + (z1-z2)**2)\n",
    "print('distance between p1 and p2 is ' + str(dis))"
   ]
  },
  {
   "cell_type": "markdown",
   "metadata": {},
   "source": [
    "# Activity 4.3 - Simple statistics"
   ]
  },
  {
   "cell_type": "markdown",
   "metadata": {},
   "source": [
    "We have collected donations from 3 students as 27, 6, 15. Please report the mean and variance of the donations. <br>\n",
    "hint: variance = sigma{(x-mean)^2}/ n"
   ]
  },
  {
   "attachments": {
    "image.png": {
     "image/png": "[encoded data removed]"
    }
   },
   "cell_type": "markdown",
   "metadata": {},
   "source": [
    "![image.png](attachment:image.png)"
   ]
  },
  {
   "cell_type": "code",
   "execution_count": null,
   "metadata": {},
   "outputs": [],
   "source": [
    "d1 = 27\n",
    "d2 = 6\n",
    "d3 = 15\n",
    "n = 3\n",
    "\n",
    "sum = d1 + d2 + d3\n",
    "mean = (d1 + d2 + d3) / 3\n",
    "variance = ((d1-mean)**2 + (d2-mean)**2 + (d3-mean)**2) / (n-1)\n",
    "print(f'{sum}, {mean}, {variance}')\n"
   ]
  },
  {
   "cell_type": "code",
   "execution_count": 1,
   "metadata": {},
   "outputs": [
    {
     "name": "stdout",
     "output_type": "stream",
     "text": [
      "hello world\n"
     ]
    }
   ],
   "source": [
    "s = \"hello world\"\n",
    "s.upper()\n",
    "print(s)"
   ]
  },
  {
   "cell_type": "markdown",
   "metadata": {},
   "source": [
    "# Demo 5 - Characters and Strings"
   ]
  },
  {
   "cell_type": "markdown",
   "metadata": {},
   "source": [
    "Characters (char) and Strings (String) are also useful for writting text:"
   ]
  },
  {
   "cell_type": "code",
   "execution_count": null,
   "metadata": {},
   "outputs": [],
   "source": [
    "my_string = \"This is a string\"\n",
    "my_character = 'R'"
   ]
  },
  {
   "cell_type": "code",
   "execution_count": null,
   "metadata": {},
   "outputs": [],
   "source": [
    "print(my_string)\n",
    "print(my_character)"
   ]
  },
  {
   "cell_type": "markdown",
   "metadata": {},
   "source": [
    "we can join string together with the plus operator"
   ]
  },
  {
   "cell_type": "code",
   "execution_count": null,
   "metadata": {},
   "outputs": [],
   "source": [
    "ls = \"An apple a day\"\n",
    "rs = \"keep a doctor away\"\n",
    "print(ls + \" \" + rs)               #join strings"
   ]
  },
  {
   "cell_type": "markdown",
   "metadata": {},
   "source": [
    "Below are some handy string conversion functions for you to try"
   ]
  },
  {
   "cell_type": "code",
   "execution_count": null,
   "metadata": {},
   "outputs": [],
   "source": [
    "len(my_string)               #shows the length of the string\n",
    "print(my_string.upper())     #turn string into upper case   \n",
    "print(my_string.lower())     \n",
    "print(my_string.capitalize())\n",
    "print(my_string.title())\n",
    "my_string = \"    test.   \"\n",
    "print(my_string.strip())"
   ]
  },
  {
   "cell_type": "markdown",
   "metadata": {},
   "source": [
    "A string is just a series of characters however. Using square brackets '[' ']' we can isolate and individual character within the string:"
   ]
  },
  {
   "cell_type": "markdown",
   "metadata": {},
   "source": [
    "The string also comes with a convenient replace function. "
   ]
  },
  {
   "cell_type": "code",
   "execution_count": null,
   "metadata": {},
   "outputs": [],
   "source": [
    "x = \"I felt happy because I saw the others were happy\"\n",
    "x.replace('happy', 'sad')"
   ]
  },
  {
   "cell_type": "markdown",
   "metadata": {},
   "source": [
    "# Activity 5 - Clean up the string "
   ]
  },
  {
   "cell_type": "markdown",
   "metadata": {},
   "source": [
    "Imagine your program crawls some text from the web, but they contain some weird characters. Now, can you use the function provided in the demo to translate this message into plain English?\n",
    "\n",
    "hint: str1 should be translated into \"talk is cheap\", str2 should become \"show me the code\""
   ]
  },
  {
   "cell_type": "code",
   "execution_count": 115,
   "metadata": {},
   "outputs": [],
   "source": [
    "str1 = \"tALk I5 cH3AP\" \n",
    "str2 = \"5H0W m3 tH3 C0D3\"\n",
    "# str1 and str2 should be translated into \"talk is cheap, show me the code\"\n",
    "# use the functions in the Demo 4 to translate both str1 and str2 into plain English\n"
   ]
  },
  {
   "cell_type": "code",
   "execution_count": null,
   "metadata": {},
   "outputs": [],
   "source": [
    "str1 = \"tALk I5 cH3AP\" \n",
    "str2 = \"5H0W m3 tH3 C0D3\"\n",
    "#\"talk is cheap, show me the code\"\n",
    "# some processing here\n",
    "str3 = str1 + ', ' + str2\n",
    "print('1 ' + str3)\n",
    "str3 = str3.replace('3', 'E')\n",
    "print('2 ' + str3)\n",
    "str3 = str3.replace('5', 's')\n",
    "print('3 ' + str3)\n",
    "str3 = str3.replace('0', 'o')\n",
    "print('4 ' + str3)\n",
    "str3 = str3.lower()\n",
    "print('5 ' + str3)\n",
    "str3 = str3.capitalize()\n",
    "print('6 ' + str3)"
   ]
  }
 ],
 "metadata": {
  "kernelspec": {
   "display_name": "Python 3",
   "language": "python",
   "name": "python3"
  },
  "language_info": {
   "codemirror_mode": {
    "name": "ipython",
    "version": 3
   },
   "file_extension": ".py",
   "mimetype": "text/x-python",
   "name": "python",
   "nbconvert_exporter": "python",
   "pygments_lexer": "ipython3",
   "version": "3.9.2"
  }
 },
 "nbformat": 4,
 "nbformat_minor": 4
}
