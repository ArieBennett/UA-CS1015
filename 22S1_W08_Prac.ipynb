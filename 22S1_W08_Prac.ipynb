{
 "cells": [
  {
   "cell_type": "markdown",
   "metadata": {},
   "source": [
    "# Q1: A simple e-book reader (50%)"
   ]
  },
  {
   "cell_type": "markdown",
   "metadata": {},
   "source": [
    "Now, let's integrate all we have learned today!\n",
    "\n",
    "When dealing with the input / output of large files, we usually do not need to hold all contents in the system memory. For example, if we are reading a very long book, we only need to keep the pages the user is currently reading in the memory. In this example, you will create a simple e-book reader that does just that.\n",
    "\n",
    "Please download the `LOTR.txt` file from MyUni. It is a big text file that contains the first volume of The Lord of The Ring. Your e-book reader should continuously take user input of a page number, then output the text of that particular page.\n",
    "\n",
    "Some notes:\n",
    "\n",
    "- Open LOTR.txt with your text editor and figure out the format of page numbers. **There are some missing page number, and you can ignore those**.\n",
    "- The file is big. You should sequentually read the file using the `readline()`, instead of using the `read()`.\n",
    "- use `strip()` method to remove leading and trailing white spaces for each line."
   ]
  },
  {
   "cell_type": "code",
   "execution_count": null,
   "metadata": {
    "tags": []
   },
   "outputs": [],
   "source": [
    "def read_page(page):\n",
    "    with open('LOTR.txt', 'r', encoding='utf8') as fin:\n",
    "        flag = False\n",
    "        next_page = page + 1\n",
    "        text = ''\n",
    "        # INSERT YOUR CODE BELOW\n",
    "        # Hint:\n",
    "        # Use the flag variable to control which lines to be added to s\n",
    "        # Change the flag to true when we find \"page\"\n",
    "        # Change the flag to false when we find \"next_page\"\n",
    "        # ~ 8 lines\n",
    "        ...\n",
    "text = read_page(1)\n",
    "print(text)"
   ]
  },
  {
   "cell_type": "markdown",
   "metadata": {},
   "source": [
    "# Q2: Codebook"
   ]
  },
  {
   "cell_type": "markdown",
   "metadata": {},
   "source": [
    "In crypotography, a **codebook** is a look-up table that translates *code* into something meaningful. The **code** is a list of numbers corresponding different lines in the file.\n",
    "\n",
    "Here we use the `words.txt` file as a codebook. The code `41879 62760` corresponds to the words at line 41879 (good) and 62760 (morning) in the file and thus can be translated to `good morning`.\n",
    "\n",
    "Please complete the code below"
   ]
  },
  {
   "cell_type": "code",
   "execution_count": null,
   "metadata": {
    "tags": []
   },
   "outputs": [],
   "source": [
    "def read_codebook(fname = 'words.txt'):    \n",
    "    '''return a list of words'''\n",
    "    # INSERT YOUR CODE BELOW\n",
    "    # Store each line as an elment of a list, then retunr the list\n",
    "    # Hint, use strip() method to remove '\\n'\n",
    "    # ~ 3 lines\n",
    "    ...\n",
    "\n",
    "def encrypt_words(words, codebook):\n",
    "    # INSERT YOUR CODE BELOW\n",
    "    # Look up code for each words and store them into a list li\n",
    "    # ~ 3 lines\n",
    "    ...\n",
    "    return li\n",
    "\n",
    "def decrypt_codes(code, codebook):\n",
    "    # INSERT YOUR CODE BELOW\n",
    "    # Look up words from code, and store them into a string\n",
    "    # ~ 4 lines\n",
    "    ...\n",
    "\n",
    "# TESTCASES BELOW\n",
    "cb = read_codebook()\n",
    "li = encrypt_words('good morning', cb)\n",
    "print(li) #[41879, 62760]\n",
    "\n",
    "code = [44543, 0, 64852, 24327]\n",
    "s = decrypt_codes(code, cb)\n",
    "print(s) # have a nice day"
   ]
  }
 ],
 "metadata": {
  "kernelspec": {
   "display_name": "Python 3",
   "language": "python",
   "name": "python3"
  },
  "language_info": {
   "codemirror_mode": {
    "name": "ipython",
    "version": 3
   },
   "file_extension": ".py",
   "mimetype": "text/x-python",
   "name": "python",
   "nbconvert_exporter": "python",
   "pygments_lexer": "ipython3",
   "version": "3.9.2"
  },
  "otter": {
   "tests": {
    "Q2": {
     "name": "Q2",
     "points": 50,
     "suites": [
      {
       "cases": [
        {
         "code": ">>> encrypt_words('happy birthday', cb) == [44168, 9866]\nTrue",
         "failure_message": "Incorrect answer, try again!",
         "hidden": false,
         "locked": false,
         "success_message": "Good job!"
        },
        {
         "code": ">>> 'a blessing in disguise' in decrypt_codes([0, 10268, 48608, 27628], cb)\nTrue",
         "failure_message": "Incorrect answer, try again!",
         "hidden": false,
         "locked": false,
         "success_message": "Good job!"
        }
       ],
       "scored": true,
       "setup": "",
       "teardown": "",
       "type": "doctest"
      }
     ]
    },
    "Question 1": {
     "name": "Question 1",
     "points": 50,
     "suites": [
      {
       "cases": [
        {
         "code": ">>> \"The Fallohides, the least numerous,\" in read_page(4)\nTrue",
         "failure_message": "Incorrect answer, try again!",
         "hidden": false,
         "locked": false,
         "success_message": "Good job!"
        },
        {
         "code": ">>> \"That name the hobbits only knew in legends\" in read_page(57)\nTrue",
         "failure_message": "Incorrect answer, try again!",
         "hidden": false,
         "locked": false,
         "success_message": "Good job!"
        }
       ],
       "scored": true,
       "setup": "",
       "teardown": "",
       "type": "doctest"
      }
     ]
    }
   }
  }
 },
 "nbformat": 4,
 "nbformat_minor": 4
}
