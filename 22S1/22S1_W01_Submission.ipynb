{
 "cells": [
  {
   "cell_type": "code",
   "execution_count": null,
   "id": "481f59bb",
   "metadata": {},
   "outputs": [],
   "source": [
    "try:\n",
    "    from utils import *\n",
    "except:\n",
    "    pass"
   ]
  },
  {
   "cell_type": "markdown",
   "id": "9de90afc",
   "metadata": {},
   "source": [
    "# COMP SCI 1015 IAP - W01 - Workshop submission"
   ]
  },
  {
   "cell_type": "markdown",
   "id": "d3581949",
   "metadata": {},
   "source": [
    "This is your first workshop submission. Please write the code that print out `Hello World!`"
   ]
  },
  {
   "cell_type": "code",
   "execution_count": 1,
   "id": "ddd93cc5",
   "metadata": {
    "tags": []
   },
   "outputs": [
    {
     "name": "stdout",
     "output_type": "stream",
     "text": [
      "Hello World!\n"
     ]
    }
   ],
   "source": [
    "# INPUT YOUR CODE BELOW\n",
    "# 1 LINE\n",
    "..."
   ]
  }
 ],
 "metadata": {
  "kernelspec": {
   "display_name": "Python 3",
   "language": "python",
   "name": "python3"
  },
  "language_info": {
   "codemirror_mode": {
    "name": "ipython",
    "version": 3
   },
   "file_extension": ".py",
   "mimetype": "text/x-python",
   "name": "python",
   "nbconvert_exporter": "python",
   "pygments_lexer": "ipython3",
   "version": "3.9.2"
  },
  "otter": {
   "tests": {
    "Task1": {
     "name": "Task1",
     "points": 100,
     "suites": [
      {
       "cases": [
        {
         "code": ">>> out = get_print_output(); # retrieves the print output.\n>>> reset_print_output(); # Resets the print output.\n>>> 'Hello World' in out\nTrue",
         "failure_message": "Incorrect answer, try again!",
         "hidden": false,
         "locked": false,
         "points": 100,
         "success_message": "Good job!"
        }
       ],
       "scored": true,
       "setup": "",
       "teardown": "",
       "type": "doctest"
      }
     ]
    }
   }
  }
 },
 "nbformat": 4,
 "nbformat_minor": 5
}
