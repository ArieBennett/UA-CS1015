{
 "cells": [
  {
   "cell_type": "code",
   "execution_count": null,
   "metadata": {
    "deletable": false,
    "editable": false
   },
   "outputs": [],
   "source": [
    "# Initialize Otter\n",
    "import otter\n",
    "grader = otter.Notebook(\"22S1_W05_Workshop.ipynb\")"
   ]
  },
  {
   "cell_type": "markdown",
   "metadata": {},
   "source": [
    "# COMP SCI 1015 IAP - W05 - Workshop"
   ]
  },
  {
   "cell_type": "markdown",
   "metadata": {},
   "source": [
    "# Demo 1 - String  "
   ]
  },
  {
   "cell_type": "markdown",
   "metadata": {},
   "source": [
    "A **string** consists of a series of **characters**. So far we already know that we can create strings by using the single quote `' '` or double quotes`\" \"`. We can also access each character with the bracket operators `[ ]` as shown below. "
   ]
  },
  {
   "cell_type": "code",
   "execution_count": null,
   "metadata": {},
   "outputs": [],
   "source": [
    "s = 'apple'\n",
    "print(s[0]) # we call index starts from 0 \n",
    "print(s[1])\n",
    "print(s[2])\n",
    "print(s[3])\n",
    "print(s[4])"
   ]
  },
  {
   "cell_type": "markdown",
   "metadata": {},
   "source": [
    "We call the expression in brackets an **index**. It is important to remember that the **index** starts from `0` in most popular programming language. That is, to access the first character of a string `s`, you should use `s[0]` instead of `s[1]`. "
   ]
  },
  {
   "cell_type": "markdown",
   "metadata": {},
   "source": [
    "## Length of a string and the last character "
   ]
  },
  {
   "cell_type": "markdown",
   "metadata": {},
   "source": [
    "`len` is a built-in function that returns the number of characters of a string."
   ]
  },
  {
   "cell_type": "code",
   "execution_count": null,
   "metadata": {},
   "outputs": [],
   "source": [
    "s = 'apple'\n",
    "print(len(s))"
   ]
  },
  {
   "cell_type": "markdown",
   "metadata": {},
   "source": [
    "Now, how can we access the **last** character of a string? You might be tempted to do the following"
   ]
  },
  {
   "cell_type": "code",
   "execution_count": null,
   "metadata": {},
   "outputs": [],
   "source": [
    "l = len(s) # first get the length of the string\n",
    "s[l] # access the last character"
   ]
  },
  {
   "cell_type": "markdown",
   "metadata": {},
   "source": [
    "However, doing so will produce an index error. It is because the index starts from **zero**. Thus, to get the last character of the string, you should do"
   ]
  },
  {
   "cell_type": "code",
   "execution_count": null,
   "metadata": {},
   "outputs": [],
   "source": [
    "l = len(s)\n",
    "s[l-1]"
   ]
  },
  {
   "cell_type": "markdown",
   "metadata": {},
   "source": [
    "## Travese the string "
   ]
  },
  {
   "cell_type": "markdown",
   "metadata": {},
   "source": [
    "Many applications process strings one character at a time. To visit every single character in a string, we can use the `while` loop from last week:"
   ]
  },
  {
   "cell_type": "code",
   "execution_count": null,
   "metadata": {},
   "outputs": [],
   "source": [
    "i = 0\n",
    "uni_name = 'University of Adelaide'\n",
    "\n",
    "while i < len(uni_name):\n",
    "    print(uni_name[i])\n",
    "    i = i + 1"
   ]
  },
  {
   "cell_type": "markdown",
   "metadata": {},
   "source": [
    "The while loop prints out each characters in a separate line. `i` is a variable storing the index value. In each iteration, the index `i` is increased by 1. The loop conditions on that the index value `i` is smaller than the length of the string. "
   ]
  },
  {
   "cell_type": "markdown",
   "metadata": {},
   "source": [
    "<!-- BEGIN QUESTION -->\n",
    "\n",
    "# Activity 1 - Reverse the string "
   ]
  },
  {
   "cell_type": "markdown",
   "metadata": {},
   "source": [
    "Please complete the function below that prints out the reverse of the string. For example, if the argument is `apple`, your program should print out"
   ]
  },
  {
   "cell_type": "raw",
   "metadata": {},
   "source": [
    "e\n",
    "l\n",
    "p\n",
    "p\n",
    "a"
   ]
  },
  {
   "cell_type": "code",
   "execution_count": null,
   "metadata": {
    "tags": []
   },
   "outputs": [],
   "source": [
    "def reverse_str(s):\n",
    "    # INSERT YOUR CODE BELOW\n",
    "    # ~ 4lines\n",
    "    ...\n",
    "\n",
    "# TEST CASES BELOW\n",
    "reverse_str('apple')\n",
    "print('---')\n",
    "reverse_str('happy')"
   ]
  },
  {
   "cell_type": "markdown",
   "metadata": {},
   "source": [
    "<!-- END QUESTION -->\n",
    "\n",
    "# Demo 2 - List"
   ]
  },
  {
   "cell_type": "markdown",
   "metadata": {},
   "source": [
    "Like *string*, a **list** is a seuqence of values. However, the value in a *list* can be integers, float, string, or other Python data types. We call these values **elements** or **items**. \n",
    "\n",
    "The simplest way to create a list is to put the elements in square brackets `[ ]`. Code below contrast *string* and *list* in Python. "
   ]
  },
  {
   "cell_type": "code",
   "execution_count": null,
   "metadata": {},
   "outputs": [],
   "source": [
    "# STRING #\n",
    "\n",
    "my_str = \"apple\" # values enclosed in double quotes\n",
    "my_str[0] # access character with brackets\n",
    "\n",
    "\n",
    "# LIST #\n",
    "\n",
    "my_list = [2, 4, 6, 8, 10] # element enclosed in bracket\n",
    "my_list[0] # access element with brackets, same as string\n",
    "my_list[len(my_list)-1] # access element with brackets, same as string"
   ]
  },
  {
   "cell_type": "markdown",
   "metadata": {},
   "source": [
    "List is a very powerful data structure and can contain multiple data types or even another list. However, to simplify your code, you might want to ensure your list contains only one data type. "
   ]
  },
  {
   "cell_type": "code",
   "execution_count": null,
   "metadata": {},
   "outputs": [],
   "source": [
    "my_list_2 = ['this', 'is', 'my', 'second', 'list!'] # element can be any data type\n",
    "\n",
    "my_list_3 = ['hello', 100, [1, 3.5]] # this list contains string, integer, list!\n",
    "\n",
    "print(my_list_2)\n",
    "print(my_list_3)\n"
   ]
  },
  {
   "cell_type": "markdown",
   "metadata": {},
   "source": [
    "## Travese a list"
   ]
  },
  {
   "cell_type": "markdown",
   "metadata": {},
   "source": [
    "Similar to the traversal of a *string*, we can use a while loop to go over each element in a list."
   ]
  },
  {
   "cell_type": "code",
   "execution_count": null,
   "metadata": {},
   "outputs": [],
   "source": [
    "my_list = [2, 4, 6, 8, 10]\n",
    "i = 0\n",
    "while i < len(my_list):\n",
    "    print(my_list[i])\n",
    "    i = i + 1"
   ]
  },
  {
   "cell_type": "markdown",
   "metadata": {},
   "source": [
    "<!-- BEGIN QUESTION -->\n",
    "\n",
    "# Activity 2 - Calculating sum and mean of a list"
   ]
  },
  {
   "cell_type": "markdown",
   "metadata": {},
   "source": [
    "Please write two functions that calculate the sum of every elements and its mean value."
   ]
  },
  {
   "cell_type": "code",
   "execution_count": null,
   "metadata": {
    "tags": []
   },
   "outputs": [],
   "source": [
    "def my_sum(li):\n",
    "    s = 0\n",
    "    i = 0\n",
    "    # COMPLETE THE CODE BELOW\n",
    "    # ~ 3 LINES\n",
    "    ...\n",
    "    # END OF YOUR CODE\n",
    "    return s\n",
    "    \n",
    "def my_mean(li):\n",
    "    # COMPLETE THE CODE BELOW\n",
    "    # You should use the my_sum function above\n",
    "    # ~1 LINE\n",
    "    m = ...\n",
    "    return m\n",
    "    \n",
    "# TEST CASES BELOW  \n",
    "li = [2, 4, 6, 8, 10]\n",
    "print(my_sum(li)) # 30\n",
    "print(my_mean(li)) # 6\n",
    "\n",
    "li = [1, 3, 5, 7, 9, 12, 102, 12]\n",
    "print(my_sum(li)) # 151\n",
    "print(my_mean(li)) # 18.875\n",
    "    "
   ]
  },
  {
   "cell_type": "markdown",
   "metadata": {},
   "source": [
    "<!-- END QUESTION -->\n",
    "\n",
    "***"
   ]
  },
  {
   "cell_type": "markdown",
   "metadata": {},
   "source": [
    "# Demo 3 - List operations"
   ]
  },
  {
   "cell_type": "markdown",
   "metadata": {},
   "source": [
    "## Update elements"
   ]
  },
  {
   "cell_type": "markdown",
   "metadata": {},
   "source": [
    "Lists are *mutable*, meaning We can access and update the elements inside a list."
   ]
  },
  {
   "cell_type": "code",
   "execution_count": null,
   "metadata": {},
   "outputs": [],
   "source": [
    "l = [1, 2, 3, 4, 5]\n",
    "print(l)\n",
    "l[0] = 100 # update the first element\n",
    "print(l)"
   ]
  },
  {
   "cell_type": "markdown",
   "metadata": {},
   "source": [
    "Note that string is **immutable**. Although we can access character using the same bracket operator `[ ]`, but we <font color='red'>cannot</font> update the characters in a string. "
   ]
  },
  {
   "cell_type": "code",
   "execution_count": null,
   "metadata": {},
   "outputs": [],
   "source": [
    "s = \"apple\"\n",
    "s[0] = \"b\""
   ]
  },
  {
   "cell_type": "markdown",
   "metadata": {},
   "source": [
    "## Update lists "
   ]
  },
  {
   "cell_type": "markdown",
   "metadata": {},
   "source": [
    "We can use the `+` and `*` operators on a list. The `+` operator concat lists while the `*` operator repeats a list multiple times."
   ]
  },
  {
   "cell_type": "code",
   "execution_count": null,
   "metadata": {},
   "outputs": [],
   "source": [
    "l1 = [1, 2, 3]\n",
    "l2 = [4, 5, 6]\n",
    "l3 = l1 + l2 # concat l1 and l2\n",
    "print(l3)\n",
    "\n",
    "l4 = l2 + l1 # concat l2 in front of l1\n",
    "print(l4) \n",
    "\n",
    "l5 = l1 * 3 # repeat l1 three times.\n",
    "print(l5)"
   ]
  },
  {
   "cell_type": "markdown",
   "metadata": {},
   "source": [
    "## Remove elements "
   ]
  },
  {
   "cell_type": "markdown",
   "metadata": {},
   "source": [
    "The list provides a `pop` function and a `remove` function for removing the elements. The `pop(i)` remove `i-th` element while `remove(x)` remove an element with the value `x`"
   ]
  },
  {
   "cell_type": "code",
   "execution_count": null,
   "metadata": {},
   "outputs": [],
   "source": [
    "l1 = [1, 2, 3]\n",
    "l1.pop(0) #remove the first element\n",
    "print(l1)\n",
    "\n",
    "l2 = [2, 4, 6, 8]\n",
    "l2.pop(3) # remove the 4th element (remember, the index starting from 0)\n",
    "print(l2)\n",
    "\n",
    "l3 = [2, 4, 6, 8]\n",
    "l3.remove(6)\n",
    "print(l3)"
   ]
  },
  {
   "cell_type": "markdown",
   "metadata": {},
   "source": [
    "The `pop` function will generate errors if you try to pop an element out of the index range and the `remove` function will generate errors when you try to remove a non-existent value. "
   ]
  },
  {
   "cell_type": "markdown",
   "metadata": {},
   "source": [
    "## List slice "
   ]
  },
  {
   "cell_type": "markdown",
   "metadata": {},
   "source": [
    "The **slice** operator allows us to take a segement of a sequence. This operator works on both *list* and *string*. The syntax is `[n:m]` and returns the part of the sequence from the `n-th` value to `m-th` value, including the first but excluding the last."
   ]
  },
  {
   "cell_type": "code",
   "execution_count": null,
   "metadata": {},
   "outputs": [],
   "source": [
    "l1 = [2, 4, 6, 8, 10]\n",
    "print(l1[0:3]) # elements 0, 1, 2\n",
    "print(l1[2:5]) # elements 2, 3, 4\n",
    "\n",
    "print('----')\n",
    "\n",
    "# you can omit the first or second \n",
    "print(l1[:2]) # from the begining to 2nd element\n",
    "print(l1[3:]) # from the 3rd element to the last element"
   ]
  },
  {
   "cell_type": "markdown",
   "metadata": {},
   "source": [
    "Similarly, the slice operator also applies to a string"
   ]
  },
  {
   "cell_type": "code",
   "execution_count": null,
   "metadata": {},
   "outputs": [],
   "source": [
    "s = \"Adelaide\"\n",
    "print(s[3:6])\n",
    "print(s[0:6])\n",
    "print(s[3:])"
   ]
  },
  {
   "cell_type": "markdown",
   "metadata": {},
   "source": [
    "<!-- BEGIN QUESTION -->\n",
    "\n",
    "# Activity 3 - A classroom attendance recorder "
   ]
  },
  {
   "cell_type": "markdown",
   "metadata": {},
   "source": [
    "Let's create a system that records student entering and leaving the room using the list data structure. Please use a list that record the stduetns in the room. **Print the list** after each step.\n",
    "\n",
    "1. Initially, Aaren, Charlie, and Ray are already in the room\n",
    "1. 'Lane' come into the room\n",
    "1. 'Jess' and 'Jude' come into the room\n",
    "1. 'Lane' leaves the room\n",
    "1. Finally, show the length of the list and its content"
   ]
  },
  {
   "cell_type": "code",
   "execution_count": null,
   "metadata": {
    "tags": []
   },
   "outputs": [],
   "source": [
    "#step 1\n",
    "class_room = ...\n",
    "print(class_room)\n",
    "#step 2\n",
    "class_room = ...\n",
    "print(class_room)\n",
    "#step 3\n",
    "class_room = ...\n",
    "print(class_room)\n",
    "#step 4\n",
    "class_room.remove('Lane') # solution\n",
    "print(class_room)\n",
    "#step 5\n",
    "print(f'The number of remaining student is {...}')\n",
    "print(f'The students in the class are {...}')\n"
   ]
  },
  {
   "cell_type": "markdown",
   "metadata": {},
   "source": [
    "<!-- END QUESTION -->\n",
    "\n",
    "***"
   ]
  },
  {
   "cell_type": "markdown",
   "metadata": {},
   "source": [
    "# Demo 4 - For loop "
   ]
  },
  {
   "cell_type": "markdown",
   "metadata": {},
   "source": [
    "Earlier we have used a `while` loop to traverse both *string* and *list*. Another common way to traverse the sequence is via the `for` loop. Below I wrote two traversal approaches side-by-side. As you will see, the `for` loop provides a more succint way to iterate through the sequence."
   ]
  },
  {
   "cell_type": "code",
   "execution_count": null,
   "metadata": {},
   "outputs": [],
   "source": [
    "my_list = ['an', 'apple', 'a', 'day']\n",
    "\n",
    "# USING WHILE \n",
    "print('--- while loop ---')\n",
    "i = 0\n",
    "while i < len(my_list):\n",
    "    print(my_list[i])\n",
    "    i = i + 1\n",
    "    \n",
    "print('--- for loop ---')\n",
    "# USING FOR\n",
    "for e in my_list:\n",
    "    print(e)\n",
    "    "
   ]
  },
  {
   "cell_type": "markdown",
   "metadata": {},
   "source": [
    "## Range function "
   ]
  },
  {
   "cell_type": "markdown",
   "metadata": {},
   "source": [
    "However, there is a downside of the `for` loop - you do not have access to the **index** value, which could be crucial in some applications. For example, you might want to compare with the element after you etc. As an alternative, we also commonly use the `range` function with the `for` loop. "
   ]
  },
  {
   "cell_type": "markdown",
   "metadata": {},
   "source": [
    "The range() function generates a series of integer numbers between a **start** integer and a **stop** integer. "
   ]
  },
  {
   "cell_type": "code",
   "execution_count": null,
   "metadata": {},
   "outputs": [],
   "source": [
    "for i in range(5):\n",
    "    print(i)\n",
    "    \n",
    "print('----')\n",
    "for i in range(2, 5):\n",
    "    print(i)"
   ]
  },
  {
   "cell_type": "markdown",
   "metadata": {},
   "source": [
    "And we can utilise the values as the **index** to access a sequence."
   ]
  },
  {
   "cell_type": "code",
   "execution_count": null,
   "metadata": {},
   "outputs": [],
   "source": [
    "print('--- for with range function ---')\n",
    "# FOR WITH RANGE\n",
    "for i in range(len(my_list)): \n",
    "    print(my_list[i]) # use i as an index to access the values in the sequence."
   ]
  },
  {
   "cell_type": "markdown",
   "metadata": {},
   "source": [
    "Again, I put all three loops in a single cell for your reference."
   ]
  },
  {
   "cell_type": "code",
   "execution_count": null,
   "metadata": {},
   "outputs": [],
   "source": [
    "# USING WHILE \n",
    "print('--- while loop ---')\n",
    "i = 0\n",
    "while i < len(my_list):\n",
    "    print(my_list[i])\n",
    "    i = i + 1\n",
    "    \n",
    "print('--- for loop ---')\n",
    "# USING FOR\n",
    "for e in my_list:\n",
    "    print(e)\n",
    "    \n",
    "print('--- for loop with range function ---')\n",
    "# FOR WITH RANGE\n",
    "for i in range(len(my_list)): \n",
    "    print(my_list[i]) # use i as an index to access the values in the sequence."
   ]
  },
  {
   "cell_type": "markdown",
   "metadata": {},
   "source": [
    "<!-- BEGIN QUESTION -->\n",
    "\n",
    "# Activity 4 - Calculating sum and mean of a list"
   ]
  },
  {
   "cell_type": "markdown",
   "metadata": {},
   "source": [
    "Please use `for` loop to complete the `my_sum` function."
   ]
  },
  {
   "cell_type": "code",
   "execution_count": null,
   "metadata": {
    "tags": []
   },
   "outputs": [],
   "source": [
    "def my_sum(li):\n",
    "    s = 0\n",
    "    # COMPLETE THE CODE BELOW\n",
    "    # ~ 2 LINES\n",
    "    ...\n",
    "    return s\n",
    "    \n",
    "def my_mean(li):\n",
    "    m = ...\n",
    "    return m\n",
    "    \n",
    "li = [2, 4, 6, 8, 10]\n",
    "print(my_sum(li)) # 30\n",
    "print(my_mean(li)) # 6\n",
    "\n",
    "li = [1, 3, 5, 7, 9, 12, 102, 12]\n",
    "print(my_sum(li)) # 151\n",
    "print(my_mean(li)) # 18.875\n",
    "    "
   ]
  },
  {
   "cell_type": "markdown",
   "metadata": {},
   "source": [
    "<!-- END QUESTION -->\n",
    "\n",
    "# Workshop Quiz: find largest number in a list"
   ]
  },
  {
   "cell_type": "markdown",
   "metadata": {},
   "source": [
    "Please complete the function `find_max`, which returns the largest number in the given sequence. \n",
    "\n",
    "**hint:** `-math.inf` will give you an infinitly small number\n",
    "\n",
    "Note, <font color='red'>using built-in max() function will not be rewarded any mark</font>"
   ]
  },
  {
   "cell_type": "code",
   "execution_count": null,
   "metadata": {
    "tags": []
   },
   "outputs": [],
   "source": [
    "import math\n",
    "\n",
    "\n",
    "def find_max(seq):\n",
    "    #INSERT YOUR CODE BELOW\n",
    "    # ~4 LINES\n",
    "    my_max = ...\n",
    "    ...\n",
    "    return my_max\n",
    "\n",
    "#================\n",
    "#TEST CASES BELOW\n",
    "#================\n",
    "\n",
    "li = [5, 6, 7, 8]\n",
    "v = find_max(li)\n",
    "print(f'answer\": {max(li)} your answer: {v}')\n",
    "\n",
    "li = [12, 34, 56, 98]\n",
    "v = find_max(li)\n",
    "print(f'answer\": {max(li)} your answer: {v}')\n",
    "\n",
    "li = [-321, -2933, -452, -1029]\n",
    "v = find_max(li)\n",
    "print(f'answer\": {max(li)} your answer: {v}')"
   ]
  }
 ],
 "metadata": {
  "kernelspec": {
   "display_name": "Python 3",
   "language": "python",
   "name": "python3"
  },
  "language_info": {
   "codemirror_mode": {
    "name": "ipython",
    "version": 3
   },
   "file_extension": ".py",
   "mimetype": "text/x-python",
   "name": "python",
   "nbconvert_exporter": "python",
   "pygments_lexer": "ipython3",
   "version": "3.9.2"
  },
  "otter": {
   "tests": {
    "Activity": {
     "name": "Activity",
     "points": 100,
     "suites": [
      {
       "cases": [
        {
         "code": ">>> find_max([3, 4, 5, 9]) == 9\nTrue",
         "failure_message": "Incorrect answer, try again!",
         "hidden": false,
         "locked": false,
         "success_message": "Good job!"
        },
        {
         "code": ">>> find_max([-100, 100, 50]) == 100\nTrue",
         "failure_message": "Incorrect answer, try again!",
         "hidden": false,
         "locked": false,
         "success_message": "Good job!"
        }
       ],
       "scored": true,
       "setup": "",
       "teardown": "",
       "type": "doctest"
      }
     ]
    }
   }
  }
 },
 "nbformat": 4,
 "nbformat_minor": 4
}
