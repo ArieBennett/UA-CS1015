{
 "cells": [
  {
   "cell_type": "markdown",
   "metadata": {},
   "source": [
    "# Coding Exam 1 Practice (2022 S1)\n",
    "\n",
    "\n",
    "**Time:** 110 minutes (105 minutes for solving the tasks + 5 minutes for the upload)<br>\n",
    "**Maximum mark:** 100\n",
    "\n",
    "<font color=red>Remember to submit your Jupyter notebook on MyUni upon completion</font><br>\n",
    "<font color=red>Do not discuss or share exam questions anywhere within two weeks after exam completion.</font><br>"
   ]
  },
  {
   "cell_type": "markdown",
   "metadata": {},
   "source": [
    "# Part 1: Variables, Expressions, User Input"
   ]
  },
  {
   "cell_type": "markdown",
   "metadata": {},
   "source": [
    "<!-- BEGIN QUESTION -->\n",
    "\n",
    "# Q1: Work Experience (10 marks)\n",
    "Write a program that lets the user enter the amount of years of their work experience and assigns this number to variable `w`. You can assume that user input is an integer. If the work experience is below 3 years, the program should print \"junior\". If the work experience is above 7 years, the program should print \"senior\". Otherwise, the program should print \"middle\".\n",
    "\n",
    "**Example 1 (<font color=red>red text</font> represents user input):**\n",
    "<pre>\n",
    "Enter number of years: <font color=red>7</font>\n",
    "middle\n",
    "</pre>\n",
    "\n",
    "**Example 2 (<font color=red>red text</font> represents user input):**\n",
    "<pre>\n",
    "Enter number of years: <font color=red>8</font>\n",
    "senior\n",
    "</pre>"
   ]
  },
  {
   "cell_type": "code",
   "execution_count": null,
   "metadata": {
    "tags": []
   },
   "outputs": [],
   "source": [
    "..."
   ]
  },
  {
   "cell_type": "markdown",
   "metadata": {},
   "source": [
    "<!-- END QUESTION -->\n",
    "\n",
    "<!-- BEGIN QUESTION -->\n",
    "\n",
    "# Q2: Total Pay (15 marks)\n",
    "Write a program that lets the user enter the number of hours worked in a week and assigns this value into variable `h`. You can assume that the input is an integer. If the number of hours is negative, the program should print \"input error\". If the number of hours is greater than 40, the program should print \"too many hours, need approval\". Otherwise, the program should print the total payment amount for this week. The pay rate is 50 AUD per hour. If the number of hours in a week exceeds 30, a bonus of 100 AUD is added.\n",
    "\n",
    "**Example 1 (<font color=red>red text</font> represents user input):**\n",
    "<pre>\n",
    "Enter the number of hours: <font color=red>30</font>\n",
    "Total pay is 1500\n",
    "</pre>\n",
    "\n",
    "**Example 2 (<font color=red>red text</font> represents user input):**\n",
    "<pre>\n",
    "Enter the number of hours: <font color=red>31</font>\n",
    "Total pay is 1650\n",
    "</pre>\n",
    "\n",
    "**Example 3 (<font color=red>red text</font> represents user input):**\n",
    "<pre>\n",
    "Enter the number of hours: <font color=red>41</font>\n",
    "too many hours, need approval\n",
    "</pre>\n",
    "\n",
    "**Example 4 (<font color=red>red text</font> represents user input):**\n",
    "<pre>\n",
    "Enter the number of hours: <font color=red>-10</font>\n",
    "input error\n",
    "</pre>"
   ]
  },
  {
   "cell_type": "code",
   "execution_count": null,
   "metadata": {
    "tags": []
   },
   "outputs": [],
   "source": [
    "..."
   ]
  },
  {
   "cell_type": "markdown",
   "metadata": {},
   "source": [
    "<!-- END QUESTION -->\n",
    "\n",
    "<!-- BEGIN QUESTION -->\n",
    "\n",
    "# Q3: Simple Calculator (20 marks)\n",
    "Write a program that lets the user enter two numbers. Save these numbers in variables `a` and `b`. You can assume that the numbers are integers. Next the program should let the user enter a string that contains comparison name. Supported operation names are \"greater\", \"less\", and \"equals\" (all lowercase). If the operation name is supported, the program should print either \"yep\" or \"nope\" depending on the result. For example, if the operation is \"less\", you need to print \"yep\" if `a < b` and \"nope\" otherwise. If the operation is not supported, the program should print \"unsupported operation\".\n",
    "\n",
    "**Example 1 (<font color=red>red text</font> represents user input):**\n",
    "<pre>\n",
    "Enter the first integer: <font color=red>3</font>\n",
    "Enter the second integer: <font color=red>2</font>\n",
    "How would you like to compare: <font color=red>greater</font>\n",
    "yep\n",
    "</pre>\n",
    "\n",
    "**Example 2 (<font color=red>red text</font> represents user input):**\n",
    "<pre>\n",
    "Enter the first integer: <font color=red>-1</font>\n",
    "Enter the second integer: <font color=red>-1</font>\n",
    "How would you like to compare: <font color=red>equals</font>\n",
    "yep\n",
    "</pre>\n",
    "\n",
    "**Example 3 (<font color=red>red text</font> represents user input):**\n",
    "<pre>\n",
    "Enter the first integer: <font color=red>1</font>\n",
    "Enter the second integer: <font color=red>2</font>\n",
    "How would you like to compare: <font color=red>blablabla</font>\n",
    "unsupported operation\n",
    "</pre>"
   ]
  },
  {
   "cell_type": "code",
   "execution_count": null,
   "metadata": {
    "tags": []
   },
   "outputs": [],
   "source": [
    "..."
   ]
  },
  {
   "cell_type": "markdown",
   "metadata": {},
   "source": [
    "<!-- END QUESTION -->\n",
    "\n",
    "# Part 2: Lists and Loops"
   ]
  },
  {
   "cell_type": "markdown",
   "metadata": {},
   "source": [
    "<!-- BEGIN QUESTION -->\n",
    "\n",
    "# Q4: Filtering a List (15 marks)\n",
    "Suppose that you are given a list of integers in list variable `raw_data`. Write a program that lets the user enter a number and assigns this value to variable `threshold`. You can assume that the input is an integer or a float. Your code should then create a new list that consist of numbers from `raw_data` (in the same order), but only even numbers greater than `threshold`. Store the new list in variable `filtered_data`. Print the new list.\n",
    "\n",
    "Note that the resulting list  should only contain even numbers. The resulting list can also be empty.\n",
    "\n",
    "In the examples below, assume `raw_data = [1, -4, 15, 22, 0, -10, 3, 2]`. However, when marking your submission, we might try `raw_data` with other numbers.\n",
    "\n",
    "**Example 1 (<font color=red>red text</font> represents user input):**\n",
    "<pre>\n",
    "Enter threshold: <font color=red>0</font>\n",
    "Filtered data: [22, 2]\n",
    "</pre>\n",
    "\n",
    "**Example 2 (<font color=red>red text</font> represents user input):**\n",
    "<pre>\n",
    "Enter threshold: <font color=red>99</font>\n",
    "Filtered data: []\n",
    "</pre>"
   ]
  },
  {
   "cell_type": "code",
   "execution_count": null,
   "metadata": {
    "tags": []
   },
   "outputs": [],
   "source": [
    "raw_data = [1, -4, 15, 22, 0, -10, 3, 2]\n",
    "..."
   ]
  },
  {
   "cell_type": "markdown",
   "metadata": {},
   "source": [
    "<!-- END QUESTION -->\n",
    "\n",
    "<!-- BEGIN QUESTION -->\n",
    "\n",
    "# Q5: Validating a List (20 marks)\n",
    "Suppose that you are given a list of integers in list variable `input_data`. This list is non-empty and contains an even number of elements. Write a program that checks whether the largest element in the first half of the list equals to the largest element in the second half. If this condition holds, print \"yes\", otherwise print \"no\".\n",
    "\n",
    "You are not allowed to use Python's max() and min() functions.\n",
    "\n",
    "**Example 1:** Suppose that `input_data = [1, 2, 0, 2]`. The first half of the list contains elements 1 and 2, and the maximum for the first half is 2. The second half of the list contains elements 0 and 2. The maximum is again 2. Hence, your program should print \"yes\".\n",
    "\n",
    "**Example 2:** Suppose that `input_data = [-1, 1, 2, 0, 4, -1]`. Your program should print \"no\".\n",
    "\n",
    "**Example 3:** Suppose that `input_data = [1, 2, 3, 4]`. Your program should print \"no\".\n",
    "\n",
    "When marking your submission, we might try `input_data` with numbers other than shown in the examples."
   ]
  },
  {
   "cell_type": "code",
   "execution_count": null,
   "metadata": {
    "tags": []
   },
   "outputs": [],
   "source": [
    "input_data = [1, 2, 0, 2]\n",
    "..."
   ]
  },
  {
   "cell_type": "markdown",
   "metadata": {},
   "source": [
    "<!-- END QUESTION -->\n",
    "\n",
    "<!-- BEGIN QUESTION -->\n",
    "\n",
    "# Q6: List of Lists (20 marks)\n",
    "Suppose that you are given a list of list of integers in list variable `x`. Write a program that prints the total number of integers in all lists. If all lists are empty, the program should print 0.\n",
    "\n",
    "You can assume that the lists contain only integers (i.e., there will be no strings or floats).\n",
    "\n",
    "**Example 1:** Suppose that `x = [ [1, 2], [0, 3, 4] ]`. Your program should print 5 (there are 5 numbers in total).\n",
    "\n",
    "**Example 2:** Suppose that `x = [ [1, 3], [0], [2, -4] ]`. Your program should print 5.\n",
    "\n",
    "**Example 3:** Suppose that `x = [ [], [] ]`. Your program should print 0.\n",
    "\n",
    "When marking your submission, we might try `x` with numbers other than shown in the examples."
   ]
  },
  {
   "cell_type": "code",
   "execution_count": null,
   "metadata": {
    "tags": []
   },
   "outputs": [],
   "source": [
    "..."
   ]
  },
  {
   "cell_type": "markdown",
   "metadata": {},
   "source": [
    "<!-- END QUESTION -->\n",
    "\n",
    "# <font color=red>Remember to submit your Jupyter notebook on MyUni</font>"
   ]
  }
 ],
 "metadata": {
  "kernelspec": {
   "display_name": "Python 3",
   "language": "python",
   "name": "python3"
  },
  "language_info": {
   "codemirror_mode": {
    "name": "ipython",
    "version": 3
   },
   "file_extension": ".py",
   "mimetype": "text/x-python",
   "name": "python",
   "nbconvert_exporter": "python",
   "pygments_lexer": "ipython3",
   "version": "3.9.2"
  }
 },
 "nbformat": 4,
 "nbformat_minor": 4
}
