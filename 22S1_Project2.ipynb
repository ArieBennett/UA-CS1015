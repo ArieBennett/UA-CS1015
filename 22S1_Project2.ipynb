{
 "cells": [
  {
   "cell_type": "markdown",
   "id": "39515bcd",
   "metadata": {},
   "source": [
    "# COMP SCI 1015 IAP - Coding Assigment 2 - Connect-N"
   ]
  },
  {
   "cell_type": "markdown",
   "id": "0e917937",
   "metadata": {},
   "source": [
    "<!-- BEGIN QUESTION -->\n",
    "\n",
    "## Introduction\n",
    "In this assignment, you will implement a **Connect-N** game, an extension of the popular **Connect-4** game. \n",
    "\n",
    "**Connect-Four** is a two-player connection board game in which the players first choose a color and then take turns dropping one colored disc from the top into a **seven-column, six-row** vertically suspended grid. The pieces fall straight down, occupying the lowest available space within the column. The objective of the game is to be the first to form a horizontal, vertical, or diagonal line of **four of one's own discs**. If you have never played the game Connect 4, you can find its rule and try the game here\n",
    "\n",
    "[https://www.mathsisfun.com/games/connect4.html](https://www.mathsisfun.com/games/connect4.html)\n",
    "\n",
    "## Connect-N Game\n",
    "**Connect-N** game is a variation of **Connect-4** where the grid expands to **N+2 Columns** and **N+3 rows**. The winning condition becomes the first to form horizontal, diagonal line of **N of one's own discs**.  **N** will be a positive integer number larger or equal to 3, i.e. 3, 4, 5, 6... etc.\n",
    "\n",
    "You need to implement the following two functions:\n",
    "- `have_winner`: return 1 if there is a winner, return 2 if the board is full, return 0 otherwise.\n",
    "- `drop_disk(c, player)`: player drop a disk at $c_{th}$ colomn. Return 1 if successfully drop the disk, return 0 if this is a illegal move, e.g. the colomn is full.\n",
    "\n",
    "We have provided some utility functions to you:\n",
    "- `init_board`: start the board\n",
    "- `display`: draw the board\n",
    "- `game`: the main loop that starts the game and allows the players to drop disk in turn"
   ]
  },
  {
   "cell_type": "code",
   "execution_count": null,
   "id": "17068dbb",
   "metadata": {
    "tags": []
   },
   "outputs": [],
   "source": [
    "# GLOBAL VARIABLES\n",
    "N = 5\n",
    "num_row = N + 3\n",
    "num_col = N + 2\n",
    "disk = ['\\u2B1C', '\\u26AA', '\\u26AB']\n",
    "board = []\n",
    "\n",
    "def init_board(n):\n",
    "    '''initialise the board'''\n",
    "    global N, num_row, num_col\n",
    "    N = n\n",
    "    num_row = n + 3\n",
    "    num_col = n + 2\n",
    "    for c in range(num_col):\n",
    "        board.append([0]*num_row)\n",
    "    \n",
    "def display():\n",
    "    '''print the board'''\n",
    "    to_print = \"    \"\n",
    "    for i in range(num_col):\n",
    "        to_print = to_print + f'[{i}]'\n",
    "    print(to_print)\n",
    "    for i in range(num_row):\n",
    "        to_print = f'[{i:2}]'\n",
    "        for j in range(num_col):\n",
    "            to_print = f'{to_print}{disk[board[j][i]]:2}'\n",
    "        print(to_print)\n",
    "\n",
    "def game():\n",
    "    '''play the game'''\n",
    "    n = input('Please input N:')\n",
    "    init_board(int(n))\n",
    "    \n",
    "    p = 0\n",
    "    while True:\n",
    "        c = input(f'Player {p} select colomn:')\n",
    "        if c == 'q': # quit the game\n",
    "            print(f'Player {p} resigned')\n",
    "            break\n",
    "            \n",
    "        # drop disk    \n",
    "        f = drop_disk(int(c), p+1)\n",
    "        if f == 0: # illegal move\n",
    "            print(f'Column {c} is an illegal move')\n",
    "            continue            \n",
    "        display()\n",
    "        \n",
    "        # check winner and switch side\n",
    "        w = have_winner()\n",
    "        if w == 1:\n",
    "            print(f'Player {p} won')\n",
    "            break\n",
    "        elif w == 2:\n",
    "            print('draw')\n",
    "            break\n",
    "        else:\n",
    "            p = (p + 1)%2\n",
    "\n",
    "def drop_disk(col, player):\n",
    "    '''drop a disk at colomn col'''\n",
    "    # INSERT YOUR CODE BELOW\n",
    "    ...\n",
    "\n",
    "...\n",
    "\n",
    "def have_winner():\n",
    "    '''return True if there is a winner'''\n",
    "    '''check if there is a winner'''\n",
    "    # INSERT YOUR CODE BELOW\n",
    "    ...\n",
    "# MAIN CODE\n",
    "game()"
   ]
  },
  {
   "cell_type": "markdown",
   "id": "5521c9dd",
   "metadata": {},
   "source": [
    "<!-- END QUESTION -->\n",
    "\n",
    "---"
   ]
  },
  {
   "cell_type": "markdown",
   "id": "40c207bf",
   "metadata": {},
   "source": [
    "# Marking criteria:"
   ]
  },
  {
   "cell_type": "markdown",
   "id": "11de48cc",
   "metadata": {},
   "source": [
    "- Comments in your code (20%)\n",
    "    - You need to provide proper comments in your code. The comments should clearly state the purpose of every code blocks you have.\n",
    "- Program Functions (80%)"
   ]
  },
  {
   "cell_type": "markdown",
   "id": "16046b70",
   "metadata": {},
   "source": [
    "---"
   ]
  }
 ],
 "metadata": {
  "kernelspec": {
   "display_name": "Python 3 (ipykernel)",
   "language": "python",
   "name": "python3"
  },
  "language_info": {
   "codemirror_mode": {
    "name": "ipython",
    "version": 3
   },
   "file_extension": ".py",
   "mimetype": "text/x-python",
   "name": "python",
   "nbconvert_exporter": "python",
   "pygments_lexer": "ipython3",
   "version": "3.9.7"
  }
 },
 "nbformat": 4,
 "nbformat_minor": 5
}
