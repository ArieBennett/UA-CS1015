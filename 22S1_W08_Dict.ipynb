{
 "cells": [
  {
   "cell_type": "markdown",
   "metadata": {},
   "source": [
    "# COMP SCI 1015 IAP - W08 - Workshop"
   ]
  },
  {
   "cell_type": "markdown",
   "metadata": {},
   "source": [
    "# Deom 1 - Dictionary"
   ]
  },
  {
   "cell_type": "markdown",
   "metadata": {},
   "source": [
    "A dictionary is like a list, but more general. When using a list, the indices must be integers, while in a dictionary, the indices can be other types such as string. This flexibility makes dictionary a convenient tool in many practical applciations, for example, we can map an item **milk** to a price **3**.  \n",
    "\n",
    "In dictionary, the indices are called **keys** and each **key** corresponds to a single **value**. Following the example above, the **milk** is the key and **3** is its corresponding value. More formally, a dictionary representas a **mapping** from keys to values. "
   ]
  },
  {
   "cell_type": "markdown",
   "metadata": {},
   "source": [
    "## Creating a dictionary "
   ]
  },
  {
   "cell_type": "markdown",
   "metadata": {},
   "source": [
    "We can create an empty dictionary using curly bracket `{}` or the `dict` function. ."
   ]
  },
  {
   "cell_type": "code",
   "execution_count": 9,
   "metadata": {},
   "outputs": [],
   "source": [
    "# both statements create an empty dictionary\n",
    "eng2jp = {} # method 1\n",
    "eng2jp = dict() # method 2"
   ]
  },
  {
   "cell_type": "markdown",
   "metadata": {},
   "source": [
    "## Add key-value pair"
   ]
  },
  {
   "cell_type": "code",
   "execution_count": 18,
   "metadata": {},
   "outputs": [],
   "source": [
    "eng2jp['bye'] = 'sayonara'\n",
    "eng2jp['hi'] = 'konichiwa'"
   ]
  },
  {
   "cell_type": "markdown",
   "metadata": {},
   "source": [
    "Codes above create a mapping from English word `bye` and `hi` to their respective Japanese translation of `sayonara` and `hi`. We can also initialise the dictionary as below"
   ]
  },
  {
   "cell_type": "code",
   "execution_count": 13,
   "metadata": {},
   "outputs": [],
   "source": [
    "# this is equivalent to the cell above.\n",
    "eng2jp= {'bye':'Sayonara', 'hi':'konichiwa'}"
   ]
  },
  {
   "cell_type": "markdown",
   "metadata": {},
   "source": [
    "Just like list, we can access the value using the square bracket operator `[]`. Just that the indices are now *strings*."
   ]
  },
  {
   "cell_type": "code",
   "execution_count": 12,
   "metadata": {},
   "outputs": [
    {
     "name": "stdout",
     "output_type": "stream",
     "text": [
      "The JP translation of \"bye\" is Sayonara\n",
      "The JP translation of \"bye\" is konichiwa\n"
     ]
    }
   ],
   "source": [
    "print('The JP translation of \"bye\" is ' + eng2jp['bye'])\n",
    "print('The JP translation of \"bye\" is ' + eng2jp['hi'])"
   ]
  },
  {
   "cell_type": "markdown",
   "metadata": {},
   "source": [
    "## Modify key-value pairs "
   ]
  },
  {
   "cell_type": "markdown",
   "metadata": {},
   "source": [
    "Modifying values in a dictionary uses a similar syntax to modifying values in a list. "
   ]
  },
  {
   "cell_type": "code",
   "execution_count": 17,
   "metadata": {},
   "outputs": [
    {
     "name": "stdout",
     "output_type": "stream",
     "text": [
      "{'CPU': 'Intel I7', 'Ram': '16Gb', 'OS': 'Windows'}\n",
      "{'CPU': 'Intel I7', 'Ram': '8GB', 'OS': 'Windows'}\n"
     ]
    }
   ],
   "source": [
    "# create a dictionary with multiple entries\n",
    "my_computer = {\n",
    "    'CPU' : 'Intel I7',\n",
    "    'Ram' : '16Gb',\n",
    "    'OS' : 'Windows'    \n",
    "}\n",
    "print(my_computer)\n",
    "\n",
    "my_computer['Ram'] = '8GB' # modify the key-value pair\n",
    "print(my_computer)"
   ]
  },
  {
   "cell_type": "markdown",
   "metadata": {},
   "source": [
    "We can also remove an item using `pop()`, just like list."
   ]
  },
  {
   "cell_type": "code",
   "execution_count": null,
   "metadata": {},
   "outputs": [],
   "source": [
    "my_computer.pop('CPU')\n",
    "print(my_computer)"
   ]
  },
  {
   "cell_type": "markdown",
   "metadata": {},
   "source": [
    "## Check if a key exists"
   ]
  },
  {
   "cell_type": "markdown",
   "metadata": {},
   "source": [
    "When you try to access a key that is not existent in the dictionary, you will receive a `KeyError`."
   ]
  },
  {
   "cell_type": "code",
   "execution_count": null,
   "metadata": {},
   "outputs": [],
   "source": [
    "print(eng2jp['please'])"
   ]
  },
  {
   "cell_type": "markdown",
   "metadata": {},
   "source": [
    "To avoid such error, you can first check if the key exists using the `in` keyword, before access its value."
   ]
  },
  {
   "cell_type": "code",
   "execution_count": null,
   "metadata": {},
   "outputs": [],
   "source": [
    "k = 'bye'\n",
    "if k in eng2jp: # use `in` to check if the key exists\n",
    "    print(f'<{k}> is in the dictionary')\n",
    "else:\n",
    "    print(f'<{k}> cannot be found')"
   ]
  },
  {
   "cell_type": "markdown",
   "metadata": {},
   "source": [
    "# Activity 1 - Dictionary as a Collection of Counters"
   ]
  },
  {
   "cell_type": "markdown",
   "metadata": {},
   "source": [
    "Dictionary is commonly used as a collection of counters. For example, given a paragraph, we can use dictionary to count how many times each alphabet appears. In statistics, we call this collection of counters a histogram. "
   ]
  },
  {
   "cell_type": "markdown",
   "metadata": {},
   "source": [
    "### Step 1\n",
    "Create a dictionary that has 26 keys, from `a` to `z`, each key corresponds to values `0`"
   ]
  },
  {
   "cell_type": "code",
   "execution_count": 22,
   "metadata": {},
   "outputs": [
    {
     "name": "stdout",
     "output_type": "stream",
     "text": [
      "{'a': 0, 'b': 0, 'c': 0, 'd': 0, 'e': 0, 'f': 0, 'g': 0, 'h': 0, 'i': 0, 'j': 0, 'k': 0, 'l': 0, 'm': 0, 'n': 0, 'o': 0, 'p': 0, 'q': 0, 'r': 0, 's': 0, 't': 0, 'u': 0, 'v': 0, 'w': 0, 'x': 0, 'y': 0, 'z': 0}\n"
     ]
    }
   ],
   "source": [
    "# initialise your dictionary\n",
    "cnts = {}\n",
    "\n",
    "# you can manually build the dictionary...\n",
    "cnts['a'] = 0\n",
    "cnts['b'] = 0\n",
    "\n",
    "# or, better, loop through s and create the dictionary\n",
    "s = 'abcdefghijklmnopqrstuvwxyz'\n",
    "for c in s:\n",
    "    # INSERT YOUR CODE BELOW\n",
    "    # ~1 LINE\n",
    "    cnts[c] = 0\n",
    "    pass\n",
    "\n",
    "print(cnts)\n",
    "    \n",
    "    \n"
   ]
  },
  {
   "cell_type": "markdown",
   "metadata": {},
   "source": [
    "### Step 2\n",
    "Given a sentence, loop through every character and calculate how many times each character appears."
   ]
  },
  {
   "cell_type": "code",
   "execution_count": 24,
   "metadata": {},
   "outputs": [
    {
     "name": "stdout",
     "output_type": "stream",
     "text": [
      "{'a': 12, 'b': 0, 'c': 2, 'd': 4, 'e': 8, 'f': 0, 'g': 0, 'h': 2, 'i': 0, 'j': 0, 'k': 2, 'l': 2, 'm': 0, 'n': 2, 'o': 4, 'p': 6, 'q': 0, 'r': 2, 's': 2, 't': 4, 'u': 0, 'v': 0, 'w': 2, 'x': 0, 'y': 4, 'z': 0}\n"
     ]
    }
   ],
   "source": [
    "# loop through the paragraph and update the counter    \n",
    "words = 'an apple a day keeps the doctor away'\n",
    "\n",
    "for c in words:\n",
    "    # INSERT YOUR CODE BELOW\n",
    "    # ~ 2 lines\n",
    "    if c in cnts:\n",
    "        cnts[c] += 1\n",
    "\n",
    "print(cnts)\n",
    "\n"
   ]
  },
  {
   "cell_type": "markdown",
   "metadata": {},
   "source": [
    "# Demo 2 - loop through all key-value pairs"
   ]
  },
  {
   "cell_type": "markdown",
   "metadata": {},
   "source": [
    "Below is another example of dictionary. This dictionary contains the key-value pairs of usernames and ids."
   ]
  },
  {
   "cell_type": "code",
   "execution_count": null,
   "metadata": {},
   "outputs": [],
   "source": [
    "# create a dictionary\n",
    "user_ids = {\n",
    "    'Bob':102,\n",
    "    'Chelsea':103,\n",
    "    'Alice':101, # 'Alice' is a key connects to a value of 101\n",
    "    'Dean':159,\n",
    "    'Eagle':325\n",
    "}"
   ]
  },
  {
   "cell_type": "markdown",
   "metadata": {},
   "source": [
    "Dictionary is iterable and we can use the for loop to iterate through all keys of a dictionary."
   ]
  },
  {
   "cell_type": "code",
   "execution_count": null,
   "metadata": {},
   "outputs": [],
   "source": [
    "#by default, the iterator returns the keys\n",
    "print(user_ids)\n",
    "for k in user_ids:\n",
    "    print(f'{k} - {user_ids[k]}')\n"
   ]
  },
  {
   "cell_type": "markdown",
   "metadata": {},
   "source": [
    "# Activity 2 - Reverse loopup"
   ]
  },
  {
   "cell_type": "markdown",
   "metadata": {},
   "source": [
    "Given a dictionary `dict` and a key `k`, it is trivial to find the corresponding value `v = d[k]`. This operation is called **lookup**. \n",
    "\n",
    "However, what if you have `v` and would like to find `k`? We call this problem **reverse lookup**. Can you write a function that perform the reverse lookup operation?"
   ]
  },
  {
   "cell_type": "code",
   "execution_count": 14,
   "metadata": {},
   "outputs": [
    {
     "name": "stdout",
     "output_type": "stream",
     "text": [
      "Deb\n",
      "cannot find key\n"
     ]
    }
   ],
   "source": [
    "dict1 = {\n",
    "    'Alice':105,\n",
    "    'Bob':112,\n",
    "    'Chelsea':125,\n",
    "    'Deb' : 134,\n",
    "    'Edgard' : 107,\n",
    "    'Fox' : 109\n",
    "}\n",
    "\n",
    "def reverse_lookup(d, v):\n",
    "    # your code here\n",
    "    # ~ 4 lines\n",
    "\n",
    "# === test case below ===\n",
    "k = reverse_lookup(dict1, 134)\n",
    "print(k) # should print Deb\n",
    "\n",
    "k = reverse_lookup(dict1, 110)\n",
    "print(k) # should print 'cannot find key'\n",
    "    "
   ]
  },
  {
   "cell_type": "markdown",
   "metadata": {},
   "source": [
    "# Demo 3 - Dictionary and List"
   ]
  },
  {
   "cell_type": "markdown",
   "metadata": {},
   "source": [
    "`List` can appear as values in the dictionary. For example, you might have a dictionary where each entry contains a list of English names beginning with each letter:\n",
    "- A : ARIA, ARIBELLA, ARIS\n",
    "- B : BARBARA, BELLA, BETSY\n",
    "- C : CHLOE, CINDY, CLAUDIA\n",
    "\n",
    "Now, a key value would correspond to a list of values. We can create the dictionary as following:"
   ]
  },
  {
   "cell_type": "code",
   "execution_count": null,
   "metadata": {},
   "outputs": [],
   "source": [
    "names = {}\n",
    "names['A'] = ['ARIA', 'ARIBELLA', 'ARIS']\n",
    "names['B'] = ['BARBARA', 'BELLA', 'BETSY']\n",
    "names['C'] = ['CHLOE', 'CINDY', 'CLAUDIA']"
   ]
  },
  {
   "cell_type": "markdown",
   "metadata": {},
   "source": [
    "And we can loop through all names just like we did with nested list"
   ]
  },
  {
   "cell_type": "code",
   "execution_count": null,
   "metadata": {},
   "outputs": [],
   "source": [
    "for key in names:\n",
    "    for name in names[key]:\n",
    "        print(name)\n"
   ]
  },
  {
   "cell_type": "markdown",
   "metadata": {},
   "source": [
    "# Activity 3: Merge dictionaries"
   ]
  },
  {
   "cell_type": "markdown",
   "metadata": {},
   "source": [
    "Please create a function `merge_dict(dict1, dict2)` that merge two dictionaries. If two dictionaries share a same key, both values should be stored. For example\n",
    "\n",
    "- `d1 = {'a':1, 'b':2}` and `d2 = {'c':3, 'd':2}`, `merge_dict(dict1, dict2)` should return `d = {'a':1, 'b':2, 'c':3, 'd':2}`\n",
    "- `d1 = {'a':1, 'b':2}` and `d2 = {'a':5}`, `merge_dict(dict1, dict2)` should return `d = {'a': [1, 5], 'b':2, 'c':3, 'd':2}`\n"
   ]
  },
  {
   "cell_type": "code",
   "execution_count": null,
   "metadata": {},
   "outputs": [],
   "source": []
  },
  {
   "cell_type": "markdown",
   "metadata": {},
   "source": [
    "# Demo 4 - Tuples "
   ]
  },
  {
   "cell_type": "markdown",
   "metadata": {},
   "source": [
    "Now, let's switch to **tuple**, another built-in type in Python. A **tuple** is a sequence of values. Just like a **list**, the values can be any type, and they are indexed by integers. The main difference is that **tuples** are **immutable** (recall string).\n",
    "\n",
    "We can create a tuple with a series of comma-separated vlaues or using the parentheses."
   ]
  },
  {
   "cell_type": "code",
   "execution_count": 32,
   "metadata": {},
   "outputs": [
    {
     "name": "stdout",
     "output_type": "stream",
     "text": [
      "<class 'tuple'> - ('a', 'b', 'c', 'd', 'e')\n",
      "<class 'tuple'> - ('a', 'b', 'c', 'd', 'e')\n"
     ]
    }
   ],
   "source": [
    "t1 = ('a', 'b', 'c', 'd', 'e') # syntax 1\n",
    "t2 = 'f', 'g', 'h', 'i', 'j' # syntax 2\n",
    "\n",
    "print(f'{type(t1)} - {t1}')\n",
    "print(f'{type(t2)} - {t2}')"
   ]
  },
  {
   "cell_type": "markdown",
   "metadata": {},
   "source": [
    "Most list operators also work for tuples"
   ]
  },
  {
   "cell_type": "code",
   "execution_count": 37,
   "metadata": {},
   "outputs": [
    {
     "name": "stdout",
     "output_type": "stream",
     "text": [
      "c\n",
      "('a', 'b')\n",
      "a\n",
      "b\n",
      "c\n",
      "d\n",
      "e\n"
     ]
    }
   ],
   "source": [
    "print(t1[2]) # access element\n",
    "print(t1[:2]) # slices\n",
    "\n",
    "for e in t1: # acces each element\n",
    "    print(e)\n"
   ]
  },
  {
   "cell_type": "markdown",
   "metadata": {},
   "source": [
    "You can also concat two tuples together using the `+` operator. Note that we did not modify `t1` or `t2`. Here we just create a new tuple `t3`."
   ]
  },
  {
   "cell_type": "code",
   "execution_count": 38,
   "metadata": {},
   "outputs": [
    {
     "name": "stdout",
     "output_type": "stream",
     "text": [
      "('a', 'b', 'c', 'd', 'e', 'a', 'b', 'c', 'd', 'e')\n"
     ]
    }
   ],
   "source": [
    "t3 = t1 + t2\n",
    "print(t3)"
   ]
  },
  {
   "cell_type": "markdown",
   "metadata": {},
   "source": [
    "## Tuple as return value "
   ]
  },
  {
   "cell_type": "markdown",
   "metadata": {},
   "source": [
    "Tuple is especially useful when used as a return value. By definition, a function can only return one value. However, we can cirumvent this limitation using a tuple. For example, we can write a new `divide` function that returns both the quotient and remainder:"
   ]
  },
  {
   "cell_type": "code",
   "execution_count": 45,
   "metadata": {},
   "outputs": [
    {
     "name": "stdout",
     "output_type": "stream",
     "text": [
      "(1, 3)\n",
      "(7, 2)\n"
     ]
    }
   ],
   "source": [
    "def divide(dividend, divisor):\n",
    "    q = int(dividend / divisor)\n",
    "    r = dividend % divisor\n",
    "    return q, r\n",
    "\n",
    "t = divide(10, 7)\n",
    "print(t)\n",
    "\n",
    "t = divide(23, 3)\n",
    "print(t)\n"
   ]
  },
  {
   "cell_type": "markdown",
   "metadata": {},
   "source": [
    "## Tuple and dictionary "
   ]
  },
  {
   "cell_type": "markdown",
   "metadata": {},
   "source": [
    "Dictionary has a very handy `.item` method that returns a sequence **key-value** tuples. "
   ]
  },
  {
   "cell_type": "code",
   "execution_count": 47,
   "metadata": {},
   "outputs": [
    {
     "name": "stdout",
     "output_type": "stream",
     "text": [
      "Bob - 102\n",
      "Chelsea - 103\n",
      "Alice - 101\n",
      "Dean - 159\n",
      "Eagle - 325\n"
     ]
    }
   ],
   "source": [
    "user_ids = {\n",
    "    'Bob':102,\n",
    "    'Chelsea':103,\n",
    "    'Alice':101, # 'Alice' is a key connects to a value of 101\n",
    "    'Dean':159,\n",
    "    'Eagle':325\n",
    "}\n",
    "\n",
    "for key, val in user_ids.items():\n",
    "    print(f'{key} - {val}')"
   ]
  },
  {
   "cell_type": "markdown",
   "metadata": {},
   "source": [
    "# Workshop Quiz\n",
    "\n",
    "Please write a function `find_min_max` that takes a dictionary as an input and return a tuple of two keys to the min and max values respectively."
   ]
  },
  {
   "cell_type": "code",
   "execution_count": 54,
   "metadata": {},
   "outputs": [
    {
     "name": "stdout",
     "output_type": "stream",
     "text": [
      "a, e\n",
      "be, kk\n"
     ]
    }
   ],
   "source": [
    "import math\n",
    "\n",
    "def find_min_max(d):\n",
    "    _min = math.inf\n",
    "    _max = -math.inf\n",
    "    \n",
    "    k_min = 0\n",
    "    k_max = 0\n",
    "    \n",
    "    for k, v in d.items():\n",
    "        if v < _min:\n",
    "            k_min = k\n",
    "            _min = v\n",
    "        if v > _max:\n",
    "            k_max = k\n",
    "            _max = v\n",
    "    return k_min, k_max\n",
    "    \n",
    "d1 = {'a':1, 'b':3, 'e':14}\n",
    "k1, k2 = find_min_max(d1)\n",
    "print(f'{k1}, {k2}') # a, e\n",
    "\n",
    "d1 = {'a':23, 'b':3, 'c':14, 'e':32, 'g':-14, 'kk':59, 'be':-32}\n",
    "k1, k2 = find_min_max(d1)\n",
    "print(f'{k1}, {k2}') # be, kk\n"
   ]
  },
  {
   "cell_type": "code",
   "execution_count": null,
   "metadata": {},
   "outputs": [],
   "source": []
  }
 ],
 "metadata": {
  "kernelspec": {
   "display_name": "Python 3",
   "language": "python",
   "name": "python3"
  },
  "language_info": {
   "codemirror_mode": {
    "name": "ipython",
    "version": 3
   },
   "file_extension": ".py",
   "mimetype": "text/x-python",
   "name": "python",
   "nbconvert_exporter": "python",
   "pygments_lexer": "ipython3",
   "version": "3.9.2"
  }
 },
 "nbformat": 4,
 "nbformat_minor": 4
}
