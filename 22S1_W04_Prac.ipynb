{
 "cells": [
  {
   "cell_type": "markdown",
   "metadata": {},
   "source": [
    "# COMP SCI 1015 IAP - W04 - Practical"
   ]
  },
  {
   "cell_type": "markdown",
   "metadata": {},
   "source": [
    "# Task 1 - Price range\n",
    "\n",
    "Assume we you are purchasing a laptop for the school. The school has decided the `lower` and `upper` limits of the purchase. Please write a function `purchase` that takes three parameters `lower`, `upper` and `laptop_cost` and decide wheather the proposed laptop is `too expensive`, `too cheap`, or `acceptable`. \n",
    "\n",
    "The function should return one of the following strings: `too cheap`, `too expensive`, or `acceptable`.\n",
    "\n"
   ]
  },
  {
   "cell_type": "code",
   "execution_count": null,
   "metadata": {
    "tags": []
   },
   "outputs": [],
   "source": [
    "def purchase(lower, upper, laptop_cost):\n",
    "    # INSERT YOUR CODE BELOW\n",
    "    # ~ 6 lines\n",
    "    ...\n",
    "        \n",
    "s = purchase(500, 1000, 800) # return 'acceptable'\n",
    "print(s)\n",
    "s = purchase(1000, 1500, 2000) # return 'too expensive'\n",
    "print(s)"
   ]
  },
  {
   "cell_type": "markdown",
   "metadata": {},
   "source": [
    "# Task 2 - Estimate Pi"
   ]
  },
  {
   "cell_type": "markdown",
   "metadata": {},
   "source": [
    "The mathmetician has found that the following infinite series can be used to generate a numerical approximation of $1/\\pi$\n",
    "\n",
    "$\\frac{1}{\\pi}=\\frac{2\\sqrt{2}}{9801}\\sum_{k=0}^{\\infty}\\frac{(4k)!(1103+26390k)}{(k!)^{4}396^{4k}}$\n",
    "\n",
    "Please complete the implementation of the `estimate_pi()` function below:"
   ]
  },
  {
   "cell_type": "code",
   "execution_count": null,
   "metadata": {
    "tags": []
   },
   "outputs": [],
   "source": [
    "import math\n",
    "\n",
    "def estimate_pi(n):\n",
    "    '''print the estimated pi value '''\n",
    "    s = 0\n",
    "    k = 0\n",
    "    # INSERT YOUR CODE BELOW\n",
    "    # ~ 6 lines\n",
    "    while k <= n:\n",
    "    ...\n",
    "    # END OF YOUR CODE\n",
    "    return 1/s\n",
    "\n",
    "est = estimate_pi(0) # est_pi: 3.141592730013306 pi: 3.141592653589793     \n",
    "print(f'est_pi: {est:.15f} pi: {math.pi:.15f}')\n",
    "est = estimate_pi(3) # est_pi: 3.3.141592653589793 pi: 3.141592653589793     \n",
    "print(f'est_pi: {est:.15f} pi: {math.pi:.15f}')"
   ]
  },
  {
   "cell_type": "markdown",
   "metadata": {},
   "source": [
    "# Task 3: the three dice game"
   ]
  },
  {
   "cell_type": "markdown",
   "metadata": {},
   "source": [
    "Please write a simple three dice program that keep rolling three dices until these three dices have the same value. The program then report how many times it roll the dices. This activity tests what you have learned so far and might be challenging. Let TA know if you need help!"
   ]
  },
  {
   "cell_type": "code",
   "execution_count": null,
   "metadata": {
    "tags": []
   },
   "outputs": [],
   "source": [
    "import random\n",
    "\n",
    "def roll():    \n",
    "    '''return 1 if all dices have same values. return 0 otherwise.'''\n",
    "    dice1 = random.randint(1, 6) \n",
    "    dice2 = random.randint(1, 6)\n",
    "    dice3 = random.randint(1, 6)    \n",
    "    print(f'roll: {dice1} {dice2} {dice3}')\n",
    "    \n",
    "    # YOUR CODE BELOW\n",
    "    # ~ 4 LINES\n",
    "    ...\n",
    "    \n",
    "def play():\n",
    "    '''play the game, keep rolling until three dices have same value'''\n",
    "    counter = 0\n",
    "\n",
    "    # YOUR CODE BELOW\n",
    "    # ~ 5 LINES\n",
    "    ...\n",
    "    print(f'The player rolled {counter} times!')\n",
    "    return counter\n",
    "\n",
    "play()"
   ]
  }
 ],
 "metadata": {
  "kernelspec": {
   "display_name": "Python 3",
   "language": "python",
   "name": "python3"
  },
  "language_info": {
   "codemirror_mode": {
    "name": "ipython",
    "version": 3
   },
   "file_extension": ".py",
   "mimetype": "text/x-python",
   "name": "python",
   "nbconvert_exporter": "python",
   "pygments_lexer": "ipython3",
   "version": "3.9.2"
  },
  "otter": {
   "tests": {
    "Task 3": {
     "name": "Task 3",
     "points": 40,
     "suites": [
      {
       "cases": [
        {
         "code": ">>> play() == 47\nThe player rolled 32 times!\nFalse",
         "failure_message": "Incorrect answer, try again!",
         "hidden": false,
         "locked": false,
         "success_message": "Good job!"
        }
       ],
       "scored": true,
       "setup": "",
       "teardown": "",
       "type": "doctest"
      }
     ]
    },
    "Task1": {
     "name": "Task1",
     "points": 30,
     "suites": [
      {
       "cases": [
        {
         "code": ">>> purchase(500, 1000, 800) == 'acceptable'\nTrue",
         "failure_message": "Incorrect answer, try again!",
         "hidden": false,
         "locked": false,
         "points": 10,
         "success_message": "Good job!"
        },
        {
         "code": ">>> purchase(1000, 1500, 2000) == 'too expensive'\nTrue",
         "failure_message": "Incorrect answer, try again!",
         "hidden": false,
         "locked": false,
         "points": 10,
         "success_message": "Good job!"
        },
        {
         "code": ">>> purchase(800, 1000, 700) == 'too cheap'\nTrue",
         "failure_message": "Incorrect answer, try again!",
         "hidden": false,
         "locked": false,
         "points": 10,
         "success_message": "Good job!"
        }
       ],
       "scored": true,
       "setup": "",
       "teardown": "",
       "type": "doctest"
      }
     ]
    }
   }
  }
 },
 "nbformat": 4,
 "nbformat_minor": 4
}
