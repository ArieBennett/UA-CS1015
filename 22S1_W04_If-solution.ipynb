{
 "cells": [
  {
   "cell_type": "markdown",
   "metadata": {},
   "source": [
    "## Activity 1: COVID guides"
   ]
  },
  {
   "cell_type": "markdown",
   "metadata": {},
   "source": [
    "In an imaginary country, a strange virus is spreading. However, due to the limited amount of the virus testing kit, there is a guidelines that the people has to follow. \n",
    "\n",
    "1. one who has symptoms should be **isolated**\n",
    "1. one who has close-contact with infectious patients should be **quarantined**\n",
    "1. one who is below 18 years old and has close-contact should do daily **RAT**.\n",
    "\n",
    "Please write a Python program that provides the correct guideline to the people in need"
   ]
  },
  {
   "cell_type": "code",
   "execution_count": null,
   "metadata": {},
   "outputs": [],
   "source": [
    "a = input('Please input your age: ')\n",
    "b = input('Do you have any symptoms? (y/n): ')\n",
    "c = input('Do you have close-contact with any infectious person? (y/n)')\n",
    "\n",
    "\n",
    "# your program should provide one of the following three suggesstions.\n",
    "print('you should be isolated')\n",
    "print('you should be quarantine')\n",
    "print('you should do daily RAT')\n",
    "\n"
   ]
  },
  {
   "cell_type": "markdown",
   "metadata": {},
   "source": [
    "## Activity 2.1 - Print odd numbers"
   ]
  },
  {
   "cell_type": "markdown",
   "metadata": {},
   "source": [
    "Plese complete the code below:"
   ]
  },
  {
   "cell_type": "code",
   "execution_count": null,
   "metadata": {},
   "outputs": [],
   "source": [
    "def print_odd(n):\n",
    "    '''print odd number that is smaller than n'''\n",
    "    # enter your code below\n",
    "    \n",
    "    \n",
    "print_odd(5) # should print 1, 3\n",
    "print_odd(10) # should print 1, 3, 5, 7, 9\n",
    "    "
   ]
  },
  {
   "cell_type": "markdown",
   "metadata": {},
   "source": [
    "## Activity 2.2 - Print even number in a range"
   ]
  },
  {
   "cell_type": "markdown",
   "metadata": {},
   "source": [
    "Please complete the function below:"
   ]
  },
  {
   "cell_type": "code",
   "execution_count": null,
   "metadata": {},
   "outputs": [],
   "source": [
    "def print_even(a, b):\n",
    "    '''print even numbers between a and b (include a and b)'''\n",
    "    \n",
    "    \n",
    "print_even(2, 8) # should print 2, 4, 6, 8\n",
    "print_even(1, 4) # should print 2, 4\n"
   ]
  },
  {
   "cell_type": "markdown",
   "metadata": {},
   "source": [
    "# Workshop Quiz: the three dice game"
   ]
  },
  {
   "cell_type": "markdown",
   "metadata": {},
   "source": [
    "Please write a simple three dice program that keep rolling three dices until these three dices have the same value. The program then report how many times it roll the dices."
   ]
  },
  {
   "cell_type": "code",
   "execution_count": 70,
   "metadata": {},
   "outputs": [
    {
     "name": "stdout",
     "output_type": "stream",
     "text": [
      "roll: 3 3 3\n",
      "The player rolled 0 times!\n"
     ]
    }
   ],
   "source": [
    "import random\n",
    "\n",
    "def roll():    \n",
    "    '''return 1 if all dices have same values. return 0 otherwise.'''\n",
    "    dice1 = random.randint(1, 6) \n",
    "    dice2 = random.randint(1, 6)\n",
    "    dice3 = random.randint(1, 6)    \n",
    "    print(f'roll: {dice1} {dice2} {dice3}')\n",
    "    \n",
    "    # YOUR CODE BELOW\n",
    "    # ~ 4 LINES\n",
    "    if dice1 == dice2 == dice3:\n",
    "        return 1\n",
    "    else:\n",
    "        return 0\n",
    "\n",
    "counter = 0\n",
    "while True:\n",
    "    # YOUR CODE BELOW\n",
    "    # ~ 5 LINES\n",
    "    if roll() == 1:\n",
    "        print(f'The player rolled {counter} times!')\n",
    "        break\n",
    "    else:\n",
    "        counter += 1\n",
    "    \n",
    "    \n",
    "    \n",
    "    "
   ]
  }
 ],
 "metadata": {
  "kernelspec": {
   "display_name": "Python 3",
   "language": "python",
   "name": "python3"
  },
  "language_info": {
   "codemirror_mode": {
    "name": "ipython",
    "version": 3
   },
   "file_extension": ".py",
   "mimetype": "text/x-python",
   "name": "python",
   "nbconvert_exporter": "python",
   "pygments_lexer": "ipython3",
   "version": "3.9.2"
  }
 },
 "nbformat": 4,
 "nbformat_minor": 4
}
